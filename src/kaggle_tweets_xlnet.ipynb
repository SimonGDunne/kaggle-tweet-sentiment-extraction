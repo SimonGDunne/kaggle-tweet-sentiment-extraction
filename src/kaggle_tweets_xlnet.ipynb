{
  "nbformat": 4,
  "nbformat_minor": 0,
  "metadata": {
    "kernelspec": {
      "language": "python",
      "display_name": "Python 3",
      "name": "python3"
    },
    "language_info": {
      "pygments_lexer": "ipython3",
      "nbconvert_exporter": "python",
      "version": "3.6.4",
      "file_extension": ".py",
      "codemirror_mode": {
        "name": "ipython",
        "version": 3
      },
      "name": "python",
      "mimetype": "text/x-python"
    },
    "colab": {
      "name": "kaggle-tweets-xlnet.ipynb",
      "provenance": [],
      "collapsed_sections": [],
      "toc_visible": true
    },
    "accelerator": "GPU"
  },
  "cells": [
    {
      "cell_type": "markdown",
      "metadata": {
        "id": "7jaLISF2magZ"
      },
      "source": [
        "# XLNet for Tweet Sentiment Extraction\n",
        "\n"
      ]
    },
    {
      "cell_type": "markdown",
      "metadata": {
        "id": "-UGhu-_gNuV0"
      },
      "source": [
        "## Overview\n",
        "\n",
        "### Context\n",
        "Kaggle's 2020 [Tweet Sentiment Extraction](https://www.kaggle.com/c/tweet-sentiment-extraction) competition provided me with an opportunity to test out recently developed state-of-the-art machine learning models whose performance on some natural language processing (NLP) tasks have exceeded that of humans. \n",
        "\n",
        "I focused on the Google AI Brain Team's XLNet model. Two variations on this XLNet model were ensembled with a RoBERTa model fine-tuned by my Kaggle teammate to win us a silver medal (top 5%). This notebook shows the preprocessing of the data, training of the model and use of the trained model to make predictions.\n",
        "\n",
        "## Competition Objective\n",
        "\n",
        "The  competition dataset contained over 27,000 tweets that had each been labelled with their \"sentiment\". For example, a tweet like \"*I just spent the day with a labradoodle called Sporky. He is amazing.*\" would likely be labelled with the sentiment positive.\n",
        "\n",
        "The objective of the competition was not to reproduce this sentiment labelling, but to determine the word or phrase within the tweet that had led it to be labelled as having a positive, negative or neutral sentiment. For example, in our tweet \"*I just spent the day with a labradoodle called Sporky. He is amazing.*\", the phrase \"*He is amazing*\" could arguably be the phrase that led it to be labelled positive.\n",
        "\n",
        "### What is XLNet?\n",
        "The current state-of-the-art NLP models combine several new and existing ideas, including:\n",
        "* Learning **word embeddings**, or representations of words that exist in a semantic space where distance between words indicates the relationship between them (see Word2Vec and GloVe). For example, the relative positions of the word embeddings of \"son\" and \"mother\" in semantic space, would be similar to the relative positions of \"Prince\" and \"Queen\".\n",
        "* Paying **attention** to the context of a word to help the model learn its meaning (see ELMo). For example, in the sentences \"The stick fell from the tree.\" and \"I should stick to my day job\", the surrounding words help us understand that the word \"stick\" has different meanings in each.\n",
        "* Neural network architectures known as Transformers that allow for **parallelisation** thereby speeding training and inference, and new attention mechanisms that can understand **long-range dependencies** between words better than previous RNN-based architectures.\n",
        "* Training models using **transfer learning** methods (see ULMFit), where the model is first pretrained on a general language task with a massive unlabelled dataset. For example, the model might be trained to predict the missing word in a sentence taken from the corpus of all English Wikipedia entries. Once the model has been trained on this task, it is then fine-tuned on a different task with a  task-specific dataset that is usually much smaller. \n",
        "\n",
        "Like several other new NLP models, XLNet is based on a variation on the Transformer architecture and has been pretrained on a large-scale unlabeled text corpus, and is then made available for fine-tuning on user-specific tasks.\n",
        "\n",
        "One difference between XLNet and its predecessors is in the language task that it uses during pretraining. XLNet uses permutation sampling rather than masking of the input sequences in an attempt to take into account potential dependencies between the words that it is trying to predict. For example, given the task to fill in the blanks in the sentence \"_ _ is the greatest city in the world.\", previous models like BERT might make odd predictions like \"New Francisco\" or \"San York\", while XLNet, because it is not taking into account the semantic dependencies between the missing words, would be more likely to predict \"New York\" or \"San Francisco\".\n",
        "\n",
        "#### Pipeline Overview\n",
        "\n",
        "XLNet comes pre-trained by Google on an enormous corpus of text drawn from sources like books and English Wikipedia. It is up to the user to fine-tune the model on their specific language task. In our case we have a \"question answering\" task. That is, given a question (in our case, the sentiment label) and a passage of text containing the answer (the tweet), XLNet needs to highlight the “span” of text corresponding to the correct answer (the word or phrase that gave rise to the sentiment labelling). \n",
        "\n",
        "##### **Preprocessing**\n",
        "To give the pre-trained model a greater chance of understanding the text contained in a tweet, I implemented a preprocessing pipeline that cleaned the tweets, removing or transforming features like:\n",
        "* slang e.g. 'LOL' -> 'laugh out loud'\n",
        "* emojis e.g. ':)' -> 'happy'\n",
        "* misspellings e.g. 'verrrrrrry' -> 'very'\n",
        "* html character references e.g. '\\&amp;' to '&'\n",
        "    \n",
        "##### **Training**\n",
        "The model was then trained with the preprocessed dataset using \n",
        "* Early stopping and cross-validation\n",
        "* AdamW weight decay and a learning rate that linearly increases during a warmup period and subsequently decreases linearly to zero.\n",
        "\n",
        "with a stack including\n",
        "* HuggingFace's Transformers library which provides a variety of models pretrained for language tasks\n",
        "* PyTorch, a framework for GPU-based training of deep neural networks\n",
        "* GPU time for model fine-tuning provided by Google Colab.\n",
        "\n",
        "##### **Prediction** \n",
        "The trained model was then used to predict out of sample data provided by Kaggle and saved for subsequent inclusion in the ensemble model. \n",
        "\n",
        "##### **Next Steps**\n",
        "\n",
        "Given that a single fine-tuning of the XLNet model typically consumed more than a full day, I was somewhat constrained in the space of experimentation with the model. But with additional resources I would have focused on:\n",
        "* Obtaining unbiased estimates of out of sample loss\n",
        "* Optimisation of hyperparameters\n",
        "\n",
        "### Sources\n",
        "The following were useful resources for understanding aspects of the architecture or provided code snippets and hints.\n",
        "* [Visualisation of the attention mechanism in RNNs used for translation](https://jalammar.github.io/visualizing-neural-machine-translation-mechanics-of-seq2seq-models-with-attention/) \n",
        "* [Illustration of the transformer architecture](https://jalammar.github.io/illustrated-transformer/) and [an annotated version of the original paper on using attention with transformers](http://nlp.seas.harvard.edu/2018/04/03/attention.html)\n",
        "* [Illustration of the BERT architecture](http://jalammar.github.io/illustrated-bert/)\n",
        "* The original [XLNet paper](https://arxiv.org/abs/1906.08237), and a useful [slide deck on XLNet](https://www.cs.princeton.edu/courses/archive/spring20/cos598C/lectures/lec5-pretraining2.pdf)\n",
        "* [Useful video explaining the use of tokenisers](https://www.youtube.com/watch?v=U51ranzJBpY)\n",
        "* Useful notebooks illustrating how to [train BERT](https://www.kaggle.com/abhishek/bert-base-uncased-using-pytorch) and [run inference with RoBERTa](https://www.kaggle.com/abhishek/roberta-inference-5-folds)\n",
        "* Snippets for [checking where a notebook is running](https://www.kaggle.com/masterscrat/detect-if-notebook-is-running-interactively) and [Kaggle submission](https://www.kaggle.com/c/tweet-sentiment-extraction/discussion/141502)."
      ]
    },
    {
      "cell_type": "markdown",
      "metadata": {
        "id": "4WB3pC6D10Pg"
      },
      "source": [
        "## Setup"
      ]
    },
    {
      "cell_type": "markdown",
      "metadata": {
        "id": "NBiazpTm1wvB"
      },
      "source": [
        "### Installations and imports"
      ]
    },
    {
      "cell_type": "code",
      "metadata": {
        "id": "VjKIw2dP1wuj",
        "trusted": true,
        "colab": {
          "base_uri": "https://localhost:8080/"
        },
        "outputId": "507a05d7-cde3-43c2-a75c-f908cfdd9da2"
      },
      "source": [
        "!pip install transformers\n",
        "!pip install tokenizers\n",
        "!pip install protobuf\n",
        "!pip install sentencepiece"
      ],
      "execution_count": 64,
      "outputs": [
        {
          "output_type": "stream",
          "text": [
            "Requirement already satisfied: transformers in /usr/local/lib/python3.7/dist-packages (4.4.2)\n",
            "Requirement already satisfied: tqdm>=4.27 in /usr/local/lib/python3.7/dist-packages (from transformers) (4.41.1)\n",
            "Requirement already satisfied: filelock in /usr/local/lib/python3.7/dist-packages (from transformers) (3.0.12)\n",
            "Requirement already satisfied: importlib-metadata; python_version < \"3.8\" in /usr/local/lib/python3.7/dist-packages (from transformers) (3.8.1)\n",
            "Requirement already satisfied: numpy>=1.17 in /usr/local/lib/python3.7/dist-packages (from transformers) (1.19.5)\n",
            "Requirement already satisfied: sacremoses in /usr/local/lib/python3.7/dist-packages (from transformers) (0.0.44)\n",
            "Requirement already satisfied: packaging in /usr/local/lib/python3.7/dist-packages (from transformers) (20.9)\n",
            "Requirement already satisfied: requests in /usr/local/lib/python3.7/dist-packages (from transformers) (2.23.0)\n",
            "Requirement already satisfied: tokenizers<0.11,>=0.10.1 in /usr/local/lib/python3.7/dist-packages (from transformers) (0.10.2)\n",
            "Requirement already satisfied: regex!=2019.12.17 in /usr/local/lib/python3.7/dist-packages (from transformers) (2019.12.20)\n",
            "Requirement already satisfied: zipp>=0.5 in /usr/local/lib/python3.7/dist-packages (from importlib-metadata; python_version < \"3.8\"->transformers) (3.4.1)\n",
            "Requirement already satisfied: typing-extensions>=3.6.4; python_version < \"3.8\" in /usr/local/lib/python3.7/dist-packages (from importlib-metadata; python_version < \"3.8\"->transformers) (3.7.4.3)\n",
            "Requirement already satisfied: click in /usr/local/lib/python3.7/dist-packages (from sacremoses->transformers) (7.1.2)\n",
            "Requirement already satisfied: joblib in /usr/local/lib/python3.7/dist-packages (from sacremoses->transformers) (1.0.1)\n",
            "Requirement already satisfied: six in /usr/local/lib/python3.7/dist-packages (from sacremoses->transformers) (1.15.0)\n",
            "Requirement already satisfied: pyparsing>=2.0.2 in /usr/local/lib/python3.7/dist-packages (from packaging->transformers) (2.4.7)\n",
            "Requirement already satisfied: certifi>=2017.4.17 in /usr/local/lib/python3.7/dist-packages (from requests->transformers) (2020.12.5)\n",
            "Requirement already satisfied: idna<3,>=2.5 in /usr/local/lib/python3.7/dist-packages (from requests->transformers) (2.10)\n",
            "Requirement already satisfied: chardet<4,>=3.0.2 in /usr/local/lib/python3.7/dist-packages (from requests->transformers) (3.0.4)\n",
            "Requirement already satisfied: urllib3!=1.25.0,!=1.25.1,<1.26,>=1.21.1 in /usr/local/lib/python3.7/dist-packages (from requests->transformers) (1.24.3)\n",
            "Requirement already satisfied: tokenizers in /usr/local/lib/python3.7/dist-packages (0.10.2)\n",
            "Requirement already satisfied: protobuf in /usr/local/lib/python3.7/dist-packages (3.12.4)\n",
            "Requirement already satisfied: six>=1.9 in /usr/local/lib/python3.7/dist-packages (from protobuf) (1.15.0)\n",
            "Requirement already satisfied: setuptools in /usr/local/lib/python3.7/dist-packages (from protobuf) (54.2.0)\n",
            "Requirement already satisfied: sentencepiece in /usr/local/lib/python3.7/dist-packages (0.1.95)\n"
          ],
          "name": "stdout"
        }
      ]
    },
    {
      "cell_type": "code",
      "metadata": {
        "id": "1RjWp8i3_R4y",
        "trusted": true,
        "colab": {
          "base_uri": "https://localhost:8080/"
        },
        "outputId": "788a9562-bb67-4fb2-98f1-36173806388e"
      },
      "source": [
        "try:\n",
        "    from google.colab import drive\n",
        "    IN_COLAB = True\n",
        "    drive.mount('/content/drive')\n",
        "    !wget https://raw.githubusercontent.com/google/sentencepiece/master/python/src/sentencepiece/sentencepiece_pb2.py\n",
        "    !wget https://s3.amazonaws.com/models.huggingface.co/bert/xlnet-base-cased-spiece.model\n",
        "except:\n",
        "    IN_COLAB = False\n",
        "    \n",
        "    import sys\n",
        "    sys.path.append('/kaggle/input/sentencepiece-pb2/')"
      ],
      "execution_count": 65,
      "outputs": [
        {
          "output_type": "stream",
          "text": [
            "Drive already mounted at /content/drive; to attempt to forcibly remount, call drive.mount(\"/content/drive\", force_remount=True).\n",
            "--2021-04-06 11:31:52--  https://raw.githubusercontent.com/google/sentencepiece/master/python/src/sentencepiece/sentencepiece_pb2.py\n",
            "Resolving raw.githubusercontent.com (raw.githubusercontent.com)... 185.199.108.133, 185.199.111.133, 185.199.109.133, ...\n",
            "Connecting to raw.githubusercontent.com (raw.githubusercontent.com)|185.199.108.133|:443... connected.\n",
            "HTTP request sent, awaiting response... 200 OK\n",
            "Length: 8128 (7.9K) [text/plain]\n",
            "Saving to: ‘sentencepiece_pb2.py.1’\n",
            "\n",
            "sentencepiece_pb2.p 100%[===================>]   7.94K  --.-KB/s    in 0s      \n",
            "\n",
            "2021-04-06 11:31:52 (93.3 MB/s) - ‘sentencepiece_pb2.py.1’ saved [8128/8128]\n",
            "\n",
            "--2021-04-06 11:31:52--  https://s3.amazonaws.com/models.huggingface.co/bert/xlnet-base-cased-spiece.model\n",
            "Resolving s3.amazonaws.com (s3.amazonaws.com)... 52.217.66.46\n",
            "Connecting to s3.amazonaws.com (s3.amazonaws.com)|52.217.66.46|:443... connected.\n",
            "HTTP request sent, awaiting response... 200 OK\n",
            "Length: 798011 (779K) [binary/octet-stream]\n",
            "Saving to: ‘xlnet-base-cased-spiece.model.1’\n",
            "\n",
            "xlnet-base-cased-sp 100%[===================>] 779.31K  --.-KB/s    in 0.03s   \n",
            "\n",
            "2021-04-06 11:31:52 (22.6 MB/s) - ‘xlnet-base-cased-spiece.model.1’ saved [798011/798011]\n",
            "\n"
          ],
          "name": "stdout"
        }
      ]
    },
    {
      "cell_type": "code",
      "metadata": {
        "id": "vEBAM8Yn1wvC",
        "trusted": true
      },
      "source": [
        "import os\n",
        "import string\n",
        "import re\n",
        "import html\n",
        "import random\n",
        "import gc\n",
        "from pathlib import Path\n",
        "from functools import partial\n",
        "\n",
        "import numpy as np\n",
        "import pandas as pd\n",
        "from tqdm import tqdm\n",
        "from IPython.core.pylabtools import figsize\n",
        "import seaborn as sns\n",
        "import matplotlib.pyplot as plt\n",
        "\n",
        "from sklearn import model_selection\n",
        "import tokenizers\n",
        "import torch\n",
        "import torch.nn as nn\n",
        "from torch.nn import functional as F\n",
        "import transformers\n",
        "from transformers import AdamW\n",
        "from transformers import get_linear_schedule_with_warmup\n",
        "import sentencepiece as spm\n",
        "import sentencepiece_pb2"
      ],
      "execution_count": 85,
      "outputs": []
    },
    {
      "cell_type": "code",
      "metadata": {
        "id": "SDHawKkaEr2S"
      },
      "source": [
        "tqdm = partial(tqdm, position=0, leave=True)\n",
        "fontsize=14"
      ],
      "execution_count": 154,
      "outputs": []
    },
    {
      "cell_type": "markdown",
      "metadata": {
        "id": "Rxq0lAHOrUHH"
      },
      "source": [
        "### Configure device, paths, tokenizer"
      ]
    },
    {
      "cell_type": "code",
      "metadata": {
        "id": "76RJVzb_1wvF",
        "trusted": true,
        "colab": {
          "base_uri": "https://localhost:8080/"
        },
        "outputId": "002cd1d3-974b-4229-d11e-cb53f958b488"
      },
      "source": [
        "# If there's a GPU available...\n",
        "if torch.cuda.is_available():    \n",
        "    # Tell PyTorch to use the GPU.    \n",
        "    device = torch.device(\"cuda\")\n",
        "    print('There are %d GPU(s) available.' % torch.cuda.device_count())\n",
        "    print('We will use the GPU:', torch.cuda.get_device_name(0))\n",
        "\n",
        "# If not...\n",
        "else:\n",
        "    print('No GPU available, using the CPU instead.')\n",
        "    device = torch.device(\"cpu\")"
      ],
      "execution_count": 68,
      "outputs": [
        {
          "output_type": "stream",
          "text": [
            "There are 1 GPU(s) available.\n",
            "We will use the GPU: Tesla T4\n"
          ],
          "name": "stdout"
        }
      ]
    },
    {
      "cell_type": "code",
      "metadata": {
        "id": "UiUv9iHz1wvu",
        "trusted": true
      },
      "source": [
        "class SentencePieceTokenizer:\n",
        "    def __init__(self, model_name):\n",
        "        self.sp = spm.SentencePieceProcessor()\n",
        "        self.sp.load(model_name)\n",
        "    \n",
        "    def encode(self, sentence):\n",
        "        spt = sentencepiece_pb2.SentencePieceText()\n",
        "        spt.ParseFromString(self.sp.encode_as_serialized_proto(sentence))\n",
        "        offsets = []\n",
        "        ids = []\n",
        "        for piece in spt.pieces:\n",
        "            ids.append(piece.id)\n",
        "            offsets.append((piece.begin, piece.end))\n",
        "        return {'ids' : ids,\n",
        "                'offsets' : offsets}\n",
        "                \n",
        "\n",
        "class config:\n",
        "    MAX_LEN = 128\n",
        "    TRAIN_BATCH_SIZE = 16 # 32 #64\n",
        "    VALID_BATCH_SIZE =  16\n",
        "    EPOCHS = 10\n",
        "    \n",
        "    MODEL_CONFIG = transformers.XLNetConfig\n",
        "    MODEL = transformers.XLNetForQuestionAnswering\n",
        "    if IN_COLAB:\n",
        "        BASE_PATH = Path.cwd() / \"drive\" / \"My Drive\" / \"kaggle\" / \"tweet_sentiment_extraction\"     \n",
        "        MODEL_PATH = BASE_PATH  / \"model_save\" / \"model_0613_6\"\n",
        "        FOLDED_TRAINING_FILE = BASE_PATH / \"input\" / \"train-5fold\" / \"train_folds.csv\"\n",
        "        TRAINING_FILE = BASE_PATH / \"input\" / \"train.csv\"\n",
        "        TESTING_FILE = BASE_PATH  / \"input\" / \"test.csv\"\n",
        "        SAMPLE_SUBMISSION_FILE = BASE_PATH / \"input\" / \"sample_submission.csv\"\n",
        "        SUBMISSION_FILE = BASE_PATH / \"input\" / \"submission.csv\"\n",
        "        SLANG_FILE = BASE_PATH / \"input\" / \"slang_abbreviations.csv\"\n",
        "        EMOJIS_FILE = BASE_PATH / \"input\" / \"emojis.csv\"\n",
        "        PRIVATE_TEST = BASE_PATH / \"input\" / \"test_private_df.csv\"\n",
        "    else:\n",
        "        BASE_PATH = Path('/kaggle')\n",
        "        MODEL_PATH = BASE_PATH  / \"input\" / \"xlnetmodel06136\"\n",
        "        FOLDED_TRAINING_FILE = BASE_PATH / \"working\" / \"train_folds.csv\"\n",
        "        TRAINING_FILE = BASE_PATH  / \"input\" / \"tweet-sentiment-extraction\" / \"train.csv\"\n",
        "        TESTING_FILE = BASE_PATH  / \"input\" / \"tweet-sentiment-extraction\" / \"test.csv\"\n",
        "        SAMPLE_SUBMISSION_FILE = BASE_PATH / \"input\" / \"tweet-sentiment-extraction\" / \"sample_submission.csv\"\n",
        "        SUBMISSION_FILE = BASE_PATH / \"working\" / \"submission.csv\"\n",
        "        SLANG_FILE = BASE_PATH / \"input\" / \"slang-abbreviations\" / \"slang_abbreviations.csv\"\n",
        "        EMOJIS_FILE = BASE_PATH / \"input\" / \"slang-abbreviations\" / \"emojis.csv\"\n",
        "    \n",
        "    PRETRAINED_MODEL_DIR = BASE_PATH / \"input\" / \"xlnetbasecased\"\n",
        "    TOKENIZER = SentencePieceTokenizer(str(PRETRAINED_MODEL_DIR / 'xlnet-base-cased-spiece.model'))\n",
        "    SLANG_DICT = (pd.read_csv(SLANG_FILE,\n",
        "                              header=None,\n",
        "                              names=['slang', 'normalised'])\n",
        "                    .set_index('slang')\n",
        "                    .to_dict()['normalised'])\n",
        "    EMOJI_DICT = (pd.read_csv(EMOJIS_FILE, \n",
        "                              header=None, \n",
        "                              names=['emoji', 'normalised'])\n",
        "                    .set_index('emoji')\n",
        "                    .to_dict()['normalised'])"
      ],
      "execution_count": 69,
      "outputs": []
    },
    {
      "cell_type": "markdown",
      "metadata": {
        "id": "EZ8fCbd41wv6"
      },
      "source": [
        "## Tweet Preprocessing"
      ]
    },
    {
      "cell_type": "markdown",
      "metadata": {
        "id": "PE4N0ChV0pT-"
      },
      "source": [
        "For efficient training with PyTorch on the GPU, we create a custom DataSet class that will be used to deliver the data to the model in batches. \n",
        "This dataset will apply the preprocessing defined below when an individual tweet is selected from the batch.\n"
      ]
    },
    {
      "cell_type": "code",
      "metadata": {
        "id": "xt0yPE-DC5qH"
      },
      "source": [
        "def update_clean_to_raw_map(map_clean_to_raw: list,\n",
        "                            text: str,\n",
        "                            index_raw: int) -> list:\n",
        "    \"\"\"\n",
        "    For each word in the cleaned text, append its corresponding position in the \n",
        "    raw tweet to the mapping vector.\n",
        "    \"\"\"\n",
        "    num_words = len(text.split())\n",
        "    map_clean_to_raw += [index_raw]*num_words\n",
        "\n",
        "    return map_clean_to_raw\n",
        "\n",
        "def remove_odd_chars(text: str) -> str:\n",
        "    \"\"\"Removes some special characters that appear in the dataset\"\"\"\n",
        "    cleaned_text = re.sub('&not', ' not', text)\n",
        "    cleaned_text = re.sub('Â', 'A', cleaned_text) #¡\n",
        "    cleaned_text = re.sub(r'(ï¿½)', \"'\", cleaned_text)\n",
        "    cleaned_text = re.sub(re.escape('^'), \".\", cleaned_text)\n",
        "\n",
        "    return cleaned_text\n",
        "\n",
        "def replace_character_reps(text: str) -> str:\n",
        "    \"\"\"\n",
        "    Reduce any sequences of more than two repetitions of a character to \n",
        "    one character. For example,  sorryyyyyy -> sorry, sleeeeeeep -> slep\n",
        "    The sequence 'wwww.' will not be modified.\n",
        "    \"\"\"\n",
        "    cleaned_text = re.sub(r'(?!www.)([a-zA-Z\\!])\\1{2,}', '\\\\1',\n",
        "                        text,\n",
        "                        flags=re.I)\n",
        "    return cleaned_text\n",
        "\n",
        "def replace_urls(text: str) -> str:\n",
        "    \"\"\"\"\n",
        "    Replace any urls in the text with the string 'URL'\n",
        "    \"\"\"\n",
        "    cleaned_text = re.sub(r'((http://|https://|www.)[^\\s-]*)',\n",
        "                        'URL',\n",
        "                        text)\n",
        "    return cleaned_text\n",
        "\n",
        "def replace_emojis(text: str, emoji_dict: dict = config.EMOJI_DICT) -> str:\n",
        "    \"\"\"\"\n",
        "    Replace any words in the text that are found in the emoji dictionary with \n",
        "    their non-slang meaning\n",
        "    https://en.wikipedia.org/wiki/List_of_emoticons\n",
        "    \"\"\"\n",
        "    cleaned_text = ' '.join([emoji_dict[w] \n",
        "                            if w in emoji_dict.keys() \n",
        "                            else w \n",
        "                            for w in text.split()])\n",
        "    return cleaned_text\n",
        "\n",
        "def replace_slang(text: str, slang_dict: dict = config.SLANG_DICT) -> str:\n",
        "    \"\"\"\"\n",
        "    Replace any words in the text that are found in the slang dictionary with \n",
        "    their non-slang meaning\n",
        "    # # https://www.webopedia.com/quick_ref/textmessageabbreviations.asp\n",
        "    \"\"\"\n",
        "    cleaned_text = ' '.join([slang_dict[w] \n",
        "                            if w in slang_dict.keys() \n",
        "                            else w \n",
        "                            for w in text.split()])\n",
        "    return cleaned_text\n",
        "\n",
        "def replace_html(text: str) -> str:\n",
        "    \"\"\"Replace html references with unicode\"\"\"\n",
        "    return html.unescape(text)\n",
        "\n",
        "def clean_word(word: str, slang_dict: dict = config.SLANG_DICT, \n",
        "               emoji_dict: dict = config.EMOJI_DICT) -> str:\n",
        "    \"\"\"\n",
        "    Apply multiple cleaning operations to a single word.\n",
        "    The cleaned word may contain multiple words\n",
        "    \"\"\"\n",
        "    text = replace_html(word)\n",
        "    text = replace_slang(text, slang_dict)\n",
        "    text = replace_emojis(text, emoji_dict)\n",
        "    text = replace_urls(text)\n",
        "    text = replace_character_reps(text)\n",
        "\n",
        "    return text\n",
        "\n",
        "def clean_text(raw_text: str, \n",
        "               slang_dict: dict = config.SLANG_DICT, \n",
        "               emoji_dict: dict = config.EMOJI_DICT) -> {str, list}:\n",
        "    \"\"\"\n",
        "    Apply cleaning to each word within a piece of text.\n",
        "    Substitute html references, replace slang, emojis, and sequences of repeated \n",
        "    letters. Note, this cleaning misses emojis or slang that don't take up the\n",
        "    whole word (e.g. LOL!, &amp:this).\n",
        "    Finally, some special characters are removed/modified.\n",
        "\n",
        "    This cleaning can change the number of words in the text, so a  \n",
        "    vector is returned that maps from words in the cleaned text to the \n",
        "    original text.\n",
        "\n",
        "    Returns a dictionary containing\n",
        "    - cleaned_text: str representing the cleaned text \n",
        "    - map_clean_to_raw: list representing the  mapping vector from words in \n",
        "    the cleaned text to corresponding words in the original text\n",
        "    \"\"\"\n",
        "\n",
        "    cleaned_text = []\n",
        "    map_clean_to_raw = []\n",
        "\n",
        "    for index_raw, word in enumerate(raw_text.split()):\n",
        "        # output string may contain multiple words\n",
        "        cleaned_word = clean_word(word, slang_dict, emoji_dict) \n",
        "\n",
        "        map_clean_to_raw = update_clean_to_raw_map(map_clean_to_raw,\n",
        "                                                    cleaned_word,\n",
        "                                                    index_raw)\n",
        "        cleaned_text.append(cleaned_word)     \n",
        "\n",
        "    cleaned_text = ' '.join(cleaned_text)\n",
        "    cleaned_text = remove_odd_chars(cleaned_text)\n",
        "\n",
        "    return cleaned_text, map_clean_to_raw\n",
        "\n",
        "def clean_selected_text(selected_text: str, full_tweet: str,\n",
        "                        slang_dict: dict = config.SLANG_DICT, \n",
        "                        emoji_dict: dict = config.EMOJI_DICT) -> str:\n",
        "    \"\"\"\n",
        "    To ensure that the cleaned selected_text is a substring of the cleaned\n",
        "    tweet, we modify the selected_text so that its first and last words are \n",
        "    complete words in the (uncleaned) full_tweet. \n",
        "    For example, if we have:\n",
        "    * full_text = 'This is ridiculoussss'\n",
        "    * selected_text = 'is ridiculous'\n",
        "    We change the selected text to 'is ridiculoussss'\n",
        "\n",
        "    We then clean the selected_text in the same way we clean the full tweet.\n",
        "\n",
        "    Returns the cleaned tweet.\n",
        "    \"\"\"\n",
        "    try:\n",
        "        cleaned_selected_text = re.search('\\S*'+re.escape(selected_text)+'\\S*', \n",
        "                                      full_tweet).group()\n",
        "    except:\n",
        "        print(full_tweet)\n",
        "        print(selected_text)\n",
        "        raise()\n",
        "\n",
        "    cleaned_selected_text, _ = clean_text(cleaned_selected_text, )\n",
        "\n",
        "    return cleaned_selected_text\n",
        "    \n",
        "def find_selected_text_token_indices(offsets: list,\n",
        "                                     selected_text: str,\n",
        "                                     tweet: str) -> (int, int):\n",
        "    \"\"\"\n",
        "    Arguments\n",
        "    * offsets: list of \"span\", pairs of integers representing slice indices \n",
        "    associated with each token generated from the tweet. For example, if the\n",
        "    first element of offsets is (0, 1), the first token represents the slice\n",
        "    tweet[0:1], a single letter.\n",
        "    * selected_text: a substring of tweet\n",
        "    * tweet: string\n",
        "\n",
        "    Returns\n",
        "    * target_start the index in offsets of the span containing the first\n",
        "     character of selected_text.\n",
        "    * target_end the index in offsets of the span containing the last\n",
        "     character of selected_text.\n",
        "    \"\"\"\n",
        "\n",
        "    selected_text_span = re.search('\\S*'+re.escape(selected_text)+'\\S*',\n",
        "                                   tweet).span()\n",
        "\n",
        "    target_start = None\n",
        "    target_end = None\n",
        "    for j, o in enumerate(offsets):\n",
        "        if target_start is None and o[1]>selected_text_span[0]:\n",
        "            target_start = j\n",
        "        if target_end is None and o[1]>=selected_text_span[1]:\n",
        "            target_end = j\n",
        "            break\n",
        "    if target_end is None: target_end = len(offsets)-1\n",
        "\n",
        "    if target_end is None or target_start is None:\n",
        "        print(tweet)\n",
        "        print(selected_text)\n",
        "        print('target_start: '+str(target_start))\n",
        "        print('target_end: '+str(target_end))\n",
        "        print('selected text span: '+str(selected_text_span))\n",
        "        print(offsets)\n",
        "        raise\n",
        "\n",
        "    return target_start, target_end\n",
        "    \n",
        "def format_tweet(tweet, selected_text, sentiment, tokenizer, max_len,\n",
        "                 slang_dict, emoji_dict):\n",
        "    \"\"\"\n",
        "    Preprocessing the data to the XLNet model formatting\n",
        "    \"\"\"\n",
        "\n",
        "    cleaned_tweet, map_clean_to_raw = clean_text(tweet, slang_dict, emoji_dict)\n",
        "    cleaned_selected_text = clean_selected_text(selected_text, tweet,\n",
        "                                                slang_dict, emoji_dict)\n",
        "\n",
        "    tknzd = tokenizer.encode(cleaned_tweet)\n",
        "    ids = tknzd['ids']\n",
        "    offsets = tknzd['offsets']\n",
        "\n",
        "    target_start, target_end = find_selected_text_token_indices(offsets,\n",
        "                                                                cleaned_selected_text,\n",
        "                                                                cleaned_tweet)\n",
        "\n",
        "    sentiment_id = {\n",
        "        'positive': 19036,\n",
        "        'negative': 25976,\n",
        "        'neutral': 24734\n",
        "    }\n",
        "    \n",
        "    # https://huggingface.co/transformers/model_doc/xlnet.html#transformers.XLNetTokenizer.build_inputs_with_special_tokens\n",
        "    token_type_ids = [0]*2 + [1] * (len(ids)+1) + [2]\n",
        "    ids = [sentiment_id[sentiment]] + [4] + ids + [4] + [3]\n",
        "    #ids = [0] + [sentiment_id[sentiment]] + [2] + [2] + ids + [2]\n",
        "    mask = [1] * len(token_type_ids)\n",
        "    offsets = [(0, 0)] * 2 + offsets + [(0, 0)] * 2\n",
        "    target_start += 2\n",
        "    target_end += 2\n",
        "\n",
        "    padding_length = max_len - len(ids)\n",
        "    if padding_length > 0:\n",
        "        ids = ids + ([5] * padding_length)\n",
        "        mask = mask + ([0] * padding_length)\n",
        "        token_type_ids = token_type_ids + ([0] * padding_length)\n",
        "        offsets = offsets + ([(0, 0)] * padding_length)\n",
        "    map_clean_to_raw += [0]*(max_len - len(map_clean_to_raw))\n",
        "    \n",
        "    return {\n",
        "        'token_type_ids': token_type_ids,\n",
        "        'ids': ids,\n",
        "        'mask': mask,\n",
        "        'target_start': target_start,\n",
        "        'target_end': target_end,\n",
        "        'sentiment': sentiment,\n",
        "        'offsets': offsets,\n",
        "        'cleaned_tweet': cleaned_tweet,\n",
        "        'cleaned_selected_text': cleaned_selected_text,\n",
        "        'raw_tweet': tweet,\n",
        "        'raw_selected_text': selected_text,\n",
        "        'map_clean_to_raw': map_clean_to_raw\n",
        "    }\n",
        "\n",
        "class TweetDataset:\n",
        "    def __init__(self, tweet, sentiment, selected_text):\n",
        "        self.tweet = tweet\n",
        "        self.sentiment = sentiment\n",
        "        self.selected_text = selected_text\n",
        "        self.tokenizer = config.TOKENIZER\n",
        "        self.max_len = config.MAX_LEN\n",
        "        self.slang_dict = config.SLANG_DICT\n",
        "        self.emoji_dict = config.EMOJI_DICT\n",
        "    \n",
        "    def __len__(self):\n",
        "        return len(self.tweet)\n",
        "\n",
        "    def __getitem__(self, item):\n",
        "        data = format_tweet(\n",
        "            self.tweet[item], \n",
        "            self.selected_text[item], \n",
        "            self.sentiment[item],\n",
        "            self.tokenizer,\n",
        "            self.max_len,\n",
        "            self.slang_dict,\n",
        "            self.emoji_dict\n",
        "            )\n",
        "\n",
        "        return {\n",
        "            'ids': torch.tensor(data[\"ids\"], dtype=torch.long),\n",
        "            'mask': torch.tensor(data[\"mask\"], dtype=torch.long),\n",
        "            'token_type_ids': torch.tensor(data[\"token_type_ids\"], dtype=torch.long),\n",
        "            'target_start': torch.tensor(data[\"target_start\"], dtype=torch.long),\n",
        "            'target_end': torch.tensor(data[\"target_end\"], dtype=torch.long),\n",
        "            'offsets': torch.tensor(data[\"offsets\"], dtype=torch.long),\n",
        "            'sentiment': data[\"sentiment\"],\n",
        "            'raw_tweet': data[\"raw_tweet\"],\n",
        "            'raw_selected_text': data[\"raw_selected_text\"],\n",
        "            'cleaned_tweet': data['cleaned_tweet'],\n",
        "            'cleaned_selected_text': data['cleaned_selected_text'],\n",
        "            'map_clean_to_raw': torch.tensor(data['map_clean_to_raw'], dtype=torch.long)# '_'.join([str(x) for x in data['map_clean_to_raw']])\n",
        "        }"
      ],
      "execution_count": 11,
      "outputs": []
    },
    {
      "cell_type": "markdown",
      "metadata": {
        "id": "77fOSlw62B8W"
      },
      "source": [
        "## Training"
      ]
    },
    {
      "cell_type": "markdown",
      "metadata": {
        "id": "2hXHgCXG1wv2"
      },
      "source": [
        "### Model Architecture\n",
        "\n",
        "Here we take a quick look at the model architecture of the pre-trained model provided by Hugging Faces's transformers library."
      ]
    },
    {
      "cell_type": "code",
      "metadata": {
        "id": "el1CDathhxr8",
        "trusted": true
      },
      "source": [
        "def init_model(config):\n",
        "    model_config = config.MODEL_CONFIG.from_pretrained(config.PRETRAINED_MODEL_DIR )#/ \"config.json\")\n",
        "    model_config.output_hidden_states = True\n",
        "    model_config.start_n_top = config.MAX_LEN\n",
        "    model_config.end_n_top = config.MAX_LEN\n",
        "    #'/kaggle/input/xlnet-base-tf/xlnet-base-cased'\n",
        "    model = config.MODEL.from_pretrained(config.PRETRAINED_MODEL_DIR,\n",
        "                                         config=model_config)#, state_dict='/kaggle/input/xlnetmodel05081/model_3.bin')\n",
        "    \n",
        "    return model"
      ],
      "execution_count": 14,
      "outputs": []
    },
    {
      "cell_type": "code",
      "metadata": {
        "colab": {
          "base_uri": "https://localhost:8080/"
        },
        "id": "Lan50zs7vS21",
        "outputId": "df3d2961-db9a-4b41-d008-fcfcfc42e7f4"
      },
      "source": [
        "config.MAX_LEN = 1\n",
        "model = init_model(config)\n",
        "model = model.to(device)\n",
        "model.eval()"
      ],
      "execution_count": 80,
      "outputs": [
        {
          "output_type": "stream",
          "text": [
            "Some weights of the model checkpoint at /content/drive/My Drive/kaggle/tweet_sentiment_extraction/input/xlnetbasecased were not used when initializing XLNetForQuestionAnswering: ['lm_loss.weight', 'lm_loss.bias']\n",
            "- This IS expected if you are initializing XLNetForQuestionAnswering from the checkpoint of a model trained on another task or with another architecture (e.g. initializing a BertForSequenceClassification model from a BertForPreTraining model).\n",
            "- This IS NOT expected if you are initializing XLNetForQuestionAnswering from the checkpoint of a model that you expect to be exactly identical (initializing a BertForSequenceClassification model from a BertForSequenceClassification model).\n",
            "Some weights of XLNetForQuestionAnswering were not initialized from the model checkpoint at /content/drive/My Drive/kaggle/tweet_sentiment_extraction/input/xlnetbasecased and are newly initialized: ['start_logits.dense.weight', 'start_logits.dense.bias', 'end_logits.dense_0.weight', 'end_logits.dense_0.bias', 'end_logits.LayerNorm.weight', 'end_logits.LayerNorm.bias', 'end_logits.dense_1.weight', 'end_logits.dense_1.bias', 'answer_class.dense_0.weight', 'answer_class.dense_0.bias', 'answer_class.dense_1.weight']\n",
            "You should probably TRAIN this model on a down-stream task to be able to use it for predictions and inference.\n"
          ],
          "name": "stderr"
        },
        {
          "output_type": "execute_result",
          "data": {
            "text/plain": [
              "XLNetForQuestionAnswering(\n",
              "  (transformer): XLNetModel(\n",
              "    (word_embedding): Embedding(32000, 768)\n",
              "    (layer): ModuleList(\n",
              "      (0): XLNetLayer(\n",
              "        (rel_attn): XLNetRelativeAttention(\n",
              "          (layer_norm): LayerNorm((768,), eps=1e-12, elementwise_affine=True)\n",
              "          (dropout): Dropout(p=0.1, inplace=False)\n",
              "        )\n",
              "        (ff): XLNetFeedForward(\n",
              "          (layer_norm): LayerNorm((768,), eps=1e-12, elementwise_affine=True)\n",
              "          (layer_1): Linear(in_features=768, out_features=3072, bias=True)\n",
              "          (layer_2): Linear(in_features=3072, out_features=768, bias=True)\n",
              "          (dropout): Dropout(p=0.1, inplace=False)\n",
              "        )\n",
              "        (dropout): Dropout(p=0.1, inplace=False)\n",
              "      )\n",
              "      (1): XLNetLayer(\n",
              "        (rel_attn): XLNetRelativeAttention(\n",
              "          (layer_norm): LayerNorm((768,), eps=1e-12, elementwise_affine=True)\n",
              "          (dropout): Dropout(p=0.1, inplace=False)\n",
              "        )\n",
              "        (ff): XLNetFeedForward(\n",
              "          (layer_norm): LayerNorm((768,), eps=1e-12, elementwise_affine=True)\n",
              "          (layer_1): Linear(in_features=768, out_features=3072, bias=True)\n",
              "          (layer_2): Linear(in_features=3072, out_features=768, bias=True)\n",
              "          (dropout): Dropout(p=0.1, inplace=False)\n",
              "        )\n",
              "        (dropout): Dropout(p=0.1, inplace=False)\n",
              "      )\n",
              "      (2): XLNetLayer(\n",
              "        (rel_attn): XLNetRelativeAttention(\n",
              "          (layer_norm): LayerNorm((768,), eps=1e-12, elementwise_affine=True)\n",
              "          (dropout): Dropout(p=0.1, inplace=False)\n",
              "        )\n",
              "        (ff): XLNetFeedForward(\n",
              "          (layer_norm): LayerNorm((768,), eps=1e-12, elementwise_affine=True)\n",
              "          (layer_1): Linear(in_features=768, out_features=3072, bias=True)\n",
              "          (layer_2): Linear(in_features=3072, out_features=768, bias=True)\n",
              "          (dropout): Dropout(p=0.1, inplace=False)\n",
              "        )\n",
              "        (dropout): Dropout(p=0.1, inplace=False)\n",
              "      )\n",
              "      (3): XLNetLayer(\n",
              "        (rel_attn): XLNetRelativeAttention(\n",
              "          (layer_norm): LayerNorm((768,), eps=1e-12, elementwise_affine=True)\n",
              "          (dropout): Dropout(p=0.1, inplace=False)\n",
              "        )\n",
              "        (ff): XLNetFeedForward(\n",
              "          (layer_norm): LayerNorm((768,), eps=1e-12, elementwise_affine=True)\n",
              "          (layer_1): Linear(in_features=768, out_features=3072, bias=True)\n",
              "          (layer_2): Linear(in_features=3072, out_features=768, bias=True)\n",
              "          (dropout): Dropout(p=0.1, inplace=False)\n",
              "        )\n",
              "        (dropout): Dropout(p=0.1, inplace=False)\n",
              "      )\n",
              "      (4): XLNetLayer(\n",
              "        (rel_attn): XLNetRelativeAttention(\n",
              "          (layer_norm): LayerNorm((768,), eps=1e-12, elementwise_affine=True)\n",
              "          (dropout): Dropout(p=0.1, inplace=False)\n",
              "        )\n",
              "        (ff): XLNetFeedForward(\n",
              "          (layer_norm): LayerNorm((768,), eps=1e-12, elementwise_affine=True)\n",
              "          (layer_1): Linear(in_features=768, out_features=3072, bias=True)\n",
              "          (layer_2): Linear(in_features=3072, out_features=768, bias=True)\n",
              "          (dropout): Dropout(p=0.1, inplace=False)\n",
              "        )\n",
              "        (dropout): Dropout(p=0.1, inplace=False)\n",
              "      )\n",
              "      (5): XLNetLayer(\n",
              "        (rel_attn): XLNetRelativeAttention(\n",
              "          (layer_norm): LayerNorm((768,), eps=1e-12, elementwise_affine=True)\n",
              "          (dropout): Dropout(p=0.1, inplace=False)\n",
              "        )\n",
              "        (ff): XLNetFeedForward(\n",
              "          (layer_norm): LayerNorm((768,), eps=1e-12, elementwise_affine=True)\n",
              "          (layer_1): Linear(in_features=768, out_features=3072, bias=True)\n",
              "          (layer_2): Linear(in_features=3072, out_features=768, bias=True)\n",
              "          (dropout): Dropout(p=0.1, inplace=False)\n",
              "        )\n",
              "        (dropout): Dropout(p=0.1, inplace=False)\n",
              "      )\n",
              "      (6): XLNetLayer(\n",
              "        (rel_attn): XLNetRelativeAttention(\n",
              "          (layer_norm): LayerNorm((768,), eps=1e-12, elementwise_affine=True)\n",
              "          (dropout): Dropout(p=0.1, inplace=False)\n",
              "        )\n",
              "        (ff): XLNetFeedForward(\n",
              "          (layer_norm): LayerNorm((768,), eps=1e-12, elementwise_affine=True)\n",
              "          (layer_1): Linear(in_features=768, out_features=3072, bias=True)\n",
              "          (layer_2): Linear(in_features=3072, out_features=768, bias=True)\n",
              "          (dropout): Dropout(p=0.1, inplace=False)\n",
              "        )\n",
              "        (dropout): Dropout(p=0.1, inplace=False)\n",
              "      )\n",
              "      (7): XLNetLayer(\n",
              "        (rel_attn): XLNetRelativeAttention(\n",
              "          (layer_norm): LayerNorm((768,), eps=1e-12, elementwise_affine=True)\n",
              "          (dropout): Dropout(p=0.1, inplace=False)\n",
              "        )\n",
              "        (ff): XLNetFeedForward(\n",
              "          (layer_norm): LayerNorm((768,), eps=1e-12, elementwise_affine=True)\n",
              "          (layer_1): Linear(in_features=768, out_features=3072, bias=True)\n",
              "          (layer_2): Linear(in_features=3072, out_features=768, bias=True)\n",
              "          (dropout): Dropout(p=0.1, inplace=False)\n",
              "        )\n",
              "        (dropout): Dropout(p=0.1, inplace=False)\n",
              "      )\n",
              "      (8): XLNetLayer(\n",
              "        (rel_attn): XLNetRelativeAttention(\n",
              "          (layer_norm): LayerNorm((768,), eps=1e-12, elementwise_affine=True)\n",
              "          (dropout): Dropout(p=0.1, inplace=False)\n",
              "        )\n",
              "        (ff): XLNetFeedForward(\n",
              "          (layer_norm): LayerNorm((768,), eps=1e-12, elementwise_affine=True)\n",
              "          (layer_1): Linear(in_features=768, out_features=3072, bias=True)\n",
              "          (layer_2): Linear(in_features=3072, out_features=768, bias=True)\n",
              "          (dropout): Dropout(p=0.1, inplace=False)\n",
              "        )\n",
              "        (dropout): Dropout(p=0.1, inplace=False)\n",
              "      )\n",
              "      (9): XLNetLayer(\n",
              "        (rel_attn): XLNetRelativeAttention(\n",
              "          (layer_norm): LayerNorm((768,), eps=1e-12, elementwise_affine=True)\n",
              "          (dropout): Dropout(p=0.1, inplace=False)\n",
              "        )\n",
              "        (ff): XLNetFeedForward(\n",
              "          (layer_norm): LayerNorm((768,), eps=1e-12, elementwise_affine=True)\n",
              "          (layer_1): Linear(in_features=768, out_features=3072, bias=True)\n",
              "          (layer_2): Linear(in_features=3072, out_features=768, bias=True)\n",
              "          (dropout): Dropout(p=0.1, inplace=False)\n",
              "        )\n",
              "        (dropout): Dropout(p=0.1, inplace=False)\n",
              "      )\n",
              "      (10): XLNetLayer(\n",
              "        (rel_attn): XLNetRelativeAttention(\n",
              "          (layer_norm): LayerNorm((768,), eps=1e-12, elementwise_affine=True)\n",
              "          (dropout): Dropout(p=0.1, inplace=False)\n",
              "        )\n",
              "        (ff): XLNetFeedForward(\n",
              "          (layer_norm): LayerNorm((768,), eps=1e-12, elementwise_affine=True)\n",
              "          (layer_1): Linear(in_features=768, out_features=3072, bias=True)\n",
              "          (layer_2): Linear(in_features=3072, out_features=768, bias=True)\n",
              "          (dropout): Dropout(p=0.1, inplace=False)\n",
              "        )\n",
              "        (dropout): Dropout(p=0.1, inplace=False)\n",
              "      )\n",
              "      (11): XLNetLayer(\n",
              "        (rel_attn): XLNetRelativeAttention(\n",
              "          (layer_norm): LayerNorm((768,), eps=1e-12, elementwise_affine=True)\n",
              "          (dropout): Dropout(p=0.1, inplace=False)\n",
              "        )\n",
              "        (ff): XLNetFeedForward(\n",
              "          (layer_norm): LayerNorm((768,), eps=1e-12, elementwise_affine=True)\n",
              "          (layer_1): Linear(in_features=768, out_features=3072, bias=True)\n",
              "          (layer_2): Linear(in_features=3072, out_features=768, bias=True)\n",
              "          (dropout): Dropout(p=0.1, inplace=False)\n",
              "        )\n",
              "        (dropout): Dropout(p=0.1, inplace=False)\n",
              "      )\n",
              "    )\n",
              "    (dropout): Dropout(p=0.1, inplace=False)\n",
              "  )\n",
              "  (start_logits): PoolerStartLogits(\n",
              "    (dense): Linear(in_features=768, out_features=1, bias=True)\n",
              "  )\n",
              "  (end_logits): PoolerEndLogits(\n",
              "    (dense_0): Linear(in_features=1536, out_features=768, bias=True)\n",
              "    (activation): Tanh()\n",
              "    (LayerNorm): LayerNorm((768,), eps=1e-12, elementwise_affine=True)\n",
              "    (dense_1): Linear(in_features=768, out_features=1, bias=True)\n",
              "  )\n",
              "  (answer_class): PoolerAnswerClass(\n",
              "    (dense_0): Linear(in_features=1536, out_features=768, bias=True)\n",
              "    (activation): Tanh()\n",
              "    (dense_1): Linear(in_features=768, out_features=1, bias=False)\n",
              "  )\n",
              ")"
            ]
          },
          "metadata": {
            "tags": []
          },
          "execution_count": 80
        }
      ]
    },
    {
      "cell_type": "markdown",
      "metadata": {
        "id": "kUH-TqRWNcnj"
      },
      "source": [
        "### Visualise Embeddings\n",
        "\n",
        "Here we quickly illustrate the concept of relationships between word embeddings mentioned in the Overview with a couple of visualisations."
      ]
    },
    {
      "cell_type": "markdown",
      "metadata": {
        "id": "V0ln1qNv4zcJ"
      },
      "source": [
        "First we create a list of words, pass each one to the XLNet model and then extract the corresponding word embedding from the model."
      ]
    },
    {
      "cell_type": "code",
      "metadata": {
        "id": "mfygO1m5-xq0"
      },
      "source": [
        "words = ['dog', 'cat', 'puppy', 'pet', 'bark', 'tree', 'religion',\n",
        "             'document', 'priest', 'the', 'a', 'an']\n",
        "embeddings = []\n",
        "\n",
        "for w in words:\n",
        "    tknzd = config.TOKENIZER.encode(w)\n",
        "\n",
        "    ids = tknzd['ids']\n",
        "    offsets = tknzd['offsets']\n",
        "\n",
        "    tensor_ids = torch.LongTensor(ids)\n",
        "    tensor_ids = tensor_ids.to(device)\n",
        "    # unsqueeze IDs to get batch size of 1 as added dimension\n",
        "    tensor_ids = tensor_ids.unsqueeze(0)\n",
        "\n",
        "    with torch.no_grad():\n",
        "        out = model(input_ids=tensor_ids)\n",
        "        embeddings.append(out['hidden_states'][0][0][0].tolist())\n",
        "        "
      ],
      "execution_count": 164,
      "outputs": []
    },
    {
      "cell_type": "markdown",
      "metadata": {
        "id": "wwcFBPhU5Niv"
      },
      "source": [
        "Each word embedding is a 768 dimensional vector. Next, we visualise them with a heatmap, where each column represents a different word, and each row represents a different dimension.\n"
      ]
    },
    {
      "cell_type": "code",
      "metadata": {
        "colab": {
          "base_uri": "https://localhost:8080/",
          "height": 676
        },
        "id": "J-R1kcub_7ac",
        "outputId": "1677b349-fa5d-448a-8205-52bb7d69dabe"
      },
      "source": [
        "figsize(14, 10) \n",
        "sns.heatmap(pd.DataFrame(embeddings).transpose().fillna(0));\n",
        "plt.xticks(ticks=[x+0.5 for x in list(range(len(words)))],\n",
        "           labels=words, \n",
        "           rotation=45,\n",
        "           fontsize=fontsize)\n",
        "plt.ylabel('Dimension', fontsize=fontsize)\n",
        "plt.xlabel('Word', fontsize=fontsize)\n",
        "plt.title('Embedding Vectors', fontsize=fontsize);"
      ],
      "execution_count": 162,
      "outputs": [
        {
          "output_type": "display_data",
          "data": {
            "image/png": "[encoded data removed]",
            "text/plain": [
              "<Figure size 1008x720 with 2 Axes>"
            ]
          },
          "metadata": {
            "tags": [],
            "needs_background": "light"
          }
        }
      ]
    },
    {
      "cell_type": "markdown",
      "metadata": {
        "id": "2eRCcqyK55F3"
      },
      "source": [
        "If we look closely, we could infer that the representations of the article words \"the\", \"a\", and \"an\" look more muted compared to the other verbs and nouns. But it's hard to tell very much more from this visualisation.\n",
        "\n",
        "Let's try instead visualising the *correlations* between the word embeddings. This should help us see the degree of similarity between pairs of word embeddings."
      ]
    },
    {
      "cell_type": "code",
      "metadata": {
        "colab": {
          "base_uri": "https://localhost:8080/",
          "height": 513
        },
        "id": "xjBJPNRADZrg",
        "outputId": "5dee1ebb-7126-4438-da47-caf4d42d4b6c"
      },
      "source": [
        "figsize(10, 7)\n",
        "sns.heatmap(pd.DataFrame(embeddings).transpose().fillna(0).corr(),\n",
        "            cbar=True,\n",
        "            cmap='Greys')\n",
        "plt.xticks(ticks=[x+0.5 for w in list(range(len(words)))],\n",
        "           labels=sentences, \n",
        "           rotation=45,\n",
        "           fontsize=fontsize)\n",
        "plt.yticks(ticks=[x+0.5 for w in list(range(len(words)))],\n",
        "           labels=sentences,\n",
        "           rotation=0,\n",
        "           fontsize=fontsize)\n",
        "plt.ylabel('Word', fontsize=fontsize)\n",
        "plt.xlabel('Word', fontsize=fontsize)\n",
        "plt.title('Correlations Between Embedding Vectors', fontsize=fontsize);"
      ],
      "execution_count": 163,
      "outputs": [
        {
          "output_type": "display_data",
          "data": {
            "image/png": "[encoded data removed]",
            "text/plain": [
              "<Figure size 720x504 with 2 Axes>"
            ]
          },
          "metadata": {
            "tags": [],
            "needs_background": "light"
          }
        }
      ]
    },
    {
      "cell_type": "markdown",
      "metadata": {
        "id": "fB4Sf2L56yzs"
      },
      "source": [
        "Now we have a much clearer picture. We can see, for example, that the representation of \"dog\" is most similar (darker) to that of \"puppy\", and then \"cat\" and \"pet\". The embedding of \"bark\" is most similar to that of \"puppy\" and \"tree\".\n",
        "Meanwhile the articles \"the\", \"a\" and \"an\" form their own cluster in the bottom left, separate from the other parts of speech."
      ]
    },
    {
      "cell_type": "markdown",
      "metadata": {
        "id": "xCxxX5Jw1wwM"
      },
      "source": [
        "### Training functions"
      ]
    },
    {
      "cell_type": "code",
      "metadata": {
        "id": "Z6o-Di3ObeEK",
        "trusted": true
      },
      "source": [
        "def seed_everything(seed_value):\n",
        "    random.seed(seed_value)\n",
        "    np.random.seed(seed_value)\n",
        "    torch.manual_seed(seed_value)\n",
        "    os.environ['PYTHONHASHSEED'] = str(seed_value)\n",
        "    \n",
        "    if torch.cuda.is_available(): \n",
        "        torch.cuda.manual_seed(seed_value)\n",
        "        torch.cuda.manual_seed_all(seed_value)\n",
        "        torch.backends.cudnn.deterministic = True\n",
        "        torch.backends.cudnn.benchmark = True\n",
        "\n",
        "seed = 24\n",
        "seed_everything(seed) "
      ],
      "execution_count": 70,
      "outputs": []
    },
    {
      "cell_type": "code",
      "metadata": {
        "id": "0xdu-9HH-Q0-"
      },
      "source": [
        "def extract_predicted_text(ids, predicted_start, predicted_end, cleaned_tweet, \n",
        "                           raw_tweet, map_clean_to_raw, sentiment):\n",
        "\n",
        "    # in certain cases, just predict the whole raw tweet\n",
        "    if sentiment == \"neutral\" or len(raw_tweet.split()) < 2:\n",
        "        raw_predicted_text = raw_tweet\n",
        "        return raw_predicted_text\n",
        "\n",
        "    if predicted_end < predicted_start:\n",
        "        predicted_end = predicted_start\n",
        "    \n",
        "    predicted_text = config.TOKENIZER.sp.decode_ids(ids[predicted_start:\n",
        "                                                        predicted_end+1])\n",
        "\n",
        "    # get the starting and ending word numbers of the predicted text within the \n",
        "    # cleaned tweet\n",
        "    # we first expand the predicted text so that it contains complete words\n",
        "    predicted_text = re.search('\\S*'+re.escape(predicted_text)+'\\S*',\n",
        "                               cleaned_tweet).group()\n",
        "\n",
        "    predicted_words = predicted_text.split()\n",
        "    cleaned_tweet_words = cleaned_tweet.split()\n",
        "    index_start_word, index_end_word = None, None\n",
        "    for i in range(len(cleaned_tweet_words)):\n",
        "        if predicted_words == cleaned_tweet_words[i:i+len(predicted_words)]:\n",
        "            index_start_word = i \n",
        "            index_end_word = i + len(predicted_words) - 1\n",
        "            break\n",
        "\n",
        "    # map these word numbers into the word numbers of the raw tweet\n",
        "    # and extract the uncleaned version of the predicted text\n",
        "    raw_tweet_words = raw_tweet.split()\n",
        "    raw_predicted_text = raw_tweet_words[map_clean_to_raw[index_start_word]:\n",
        "                                         map_clean_to_raw[index_end_word]+1]\n",
        "    raw_predicted_text = ' '.join(raw_predicted_text)                   \n",
        "\n",
        "    return raw_predicted_text\n",
        "\n",
        "def get_batch_loss(batch, model, mode='eval'):\n",
        "    ids = batch[\"ids\"].to(device, dtype=torch.long)\n",
        "    token_type_ids = batch[\"token_type_ids\"].to(device, dtype=torch.long)\n",
        "    mask = batch[\"mask\"].to(device, dtype=torch.long)\n",
        "    target_start = batch[\"target_start\"].to(device, dtype=torch.long)\n",
        "    target_end = batch[\"target_end\"].to(device, dtype=torch.long)\n",
        "\n",
        "    if mode=='train':\n",
        "        model.zero_grad()\n",
        "\n",
        "    outputs = model(\n",
        "        input_ids=ids,\n",
        "        attention_mask=mask,\n",
        "        token_type_ids=token_type_ids,\n",
        "        start_positions=target_start,\n",
        "        end_positions=target_end\n",
        "    )\n",
        "    loss = outputs[0]\n",
        "\n",
        "    return loss\n",
        "\n",
        "def get_batch_start_end_positions(batch, model):\n",
        "    ids = batch[\"ids\"].to(device, dtype=torch.long)\n",
        "    mask = batch[\"mask\"].to(device, dtype=torch.long)\n",
        "    token_type_ids = batch[\"token_type_ids\"].to(device, dtype=torch.long)\n",
        "    raw_tweet = batch[\"raw_tweet\"]\n",
        "    raw_selected_text = batch[\"raw_selected_text\"]\n",
        "    sentiment = batch[\"sentiment\"]\n",
        "\n",
        "    # run it again to get the probabilities\n",
        "    # https://huggingface.co/transformers/model_doc/xlnet.html#xlnetforquestionanswering\n",
        "    outputs = model(\n",
        "        input_ids=ids,\n",
        "        attention_mask=mask,\n",
        "        token_type_ids=token_type_ids\n",
        "    )\n",
        "    # start_top_index contains the model.start_n_top highest probability\n",
        "    # starting sequence positions, in decreasing order of probability\n",
        "    start_top_probs = outputs[0]  \n",
        "\n",
        "    # start_top_probs contain those positions' probabilities\n",
        "    # the documentation claims that the values are log probabilities,\n",
        "    # which seems to be incorrect given that the values are in [0-1]\n",
        "    start_top_index = outputs[1] \n",
        "\n",
        "    # the i-th element of start_top_index, start_top_probs are \n",
        "    # associated with elements j*model.start_n_top+i \n",
        "    # (j=1...model.end_n_top) of end_top_index, end_top_probs, where j \n",
        "    # represents the j-th highest probability end position and NOT with\n",
        "    # the i*END_N_TOP+j elements as used here \n",
        "    # https://github.com/huggingface/transformers/blob/master/src/transformers/data/metrics/squad_metrics.py#L639\n",
        "    # this can be verified by checking summation to unity\n",
        "    end_top_probs = outputs[2] \n",
        "    end_top_index = outputs[3] \n",
        "\n",
        "    # calculate joint probability of start, end position tuples\n",
        "    start_end_probs = (start_top_probs.repeat(1, model.end_n_top)*\n",
        "                        end_top_probs)\n",
        "\n",
        "    # reshape so that probabilities are ordered by sequence position \n",
        "    # rather than probability so that we can combine with output of\n",
        "    # other models\n",
        "    mapping_to_flat_sequence_position = (\n",
        "        (end_top_index*torch.tensor(model.start_n_top))\n",
        "        .add(start_top_index.repeat(1, model.end_n_top)))\n",
        "    _, indices = torch.sort(mapping_to_flat_sequence_position, dim=1)\n",
        "\n",
        "    start_end_probs_sorted = (\n",
        "        start_end_probs[torch.repeat_interleave(\n",
        "                            torch.arange(start_end_probs.shape[0]),\n",
        "                            start_end_probs.shape[1])\n",
        "                        .view(start_end_probs.shape),\n",
        "                        indices])\n",
        "\n",
        "    # get (flat) position in sequence of highest probability tuple\n",
        "    top_start_end_probs_sorted = start_end_probs_sorted.argmax(dim=1)\n",
        "\n",
        "    # convert flat position to separate start and end positions\n",
        "    start_top_positions = ((top_start_end_probs_sorted %\n",
        "                            torch.tensor(config.MAX_LEN))\n",
        "                            .cpu().detach().numpy())\n",
        "    end_top_positions = ((top_start_end_probs_sorted //\n",
        "                            torch.tensor(config.MAX_LEN))\n",
        "                            .cpu().detach().numpy())\n",
        "\n",
        "    return start_top_positions, end_top_positions\n",
        "\n",
        "def get_batch_jaccard_scores(batch, start_top_pos, end_top_pos):\n",
        "    ids = batch[\"ids\"].to(device, dtype=torch.long)\n",
        "    raw_selected_text = batch[\"raw_selected_text\"]\n",
        "    cleaned_tweet = batch[\"cleaned_tweet\"]\n",
        "    raw_tweet = batch[\"raw_tweet\"]\n",
        "    map_clean_to_raw = batch[\"map_clean_to_raw\"]\n",
        "    sentiment = batch[\"sentiment\"]\n",
        "\n",
        "    jaccard_scores = []\n",
        "    for px, tweet in enumerate(raw_tweet):\n",
        "        predicted_text = extract_predicted_text(\n",
        "            ids=ids[px].tolist(),\n",
        "            predicted_start=start_top_pos[px],\n",
        "            predicted_end=end_top_pos[px],\n",
        "            cleaned_tweet=cleaned_tweet[px], \n",
        "            raw_tweet=raw_tweet[px], \n",
        "            map_clean_to_raw=map_clean_to_raw[px],\n",
        "            sentiment=sentiment[px])\n",
        "        \n",
        "        jaccard_score = jaccard(predicted_text.strip(), \n",
        "                                raw_selected_text[px].strip())\n",
        "        \n",
        "        jaccard_scores.append(jaccard_score)\n",
        "    \n",
        "    return jaccard_scores\n",
        "\n",
        "def train_fn(data_loader, model, optimizer, device, scheduler=None):\n",
        "    \n",
        "    model.train()\n",
        "    losses = AverageMeter()\n",
        "    jaccards = AverageMeter()\n",
        "\n",
        "    tk0 = tqdm(data_loader, total=len(data_loader))\n",
        "    \n",
        "    for bi, batch in enumerate(tk0):\n",
        "\n",
        "        loss = get_batch_loss(batch, model, mode='train')\n",
        "        loss.backward()\n",
        "\n",
        "        optimizer.step()\n",
        "        scheduler.step()\n",
        "\n",
        "        losses.update(loss.item(), batch[\"ids\"].size(0))\n",
        "        tk0.set_postfix(loss=losses.avg)\n",
        "\n",
        "def eval_fn(data_loader, model, device):\n",
        "    model.eval()\n",
        "    losses = AverageMeter()\n",
        "    jaccards = AverageMeter()\n",
        "\n",
        "    with torch.no_grad():\n",
        "        tk0 = tqdm(data_loader, total=len(data_loader))\n",
        "        for bi, batch in enumerate(tk0):\n",
        "\n",
        "            loss = get_batch_loss(batch, model)\n",
        "\n",
        "            start_top_pos, end_top_pos = get_batch_start_end_positions(batch, model)\n",
        "            \n",
        "            jaccard_scores = get_batch_jaccard_scores(batch, start_top_pos, end_top_pos)\n",
        "            \n",
        "            jaccards.update(np.mean(jaccard_scores), batch[\"ids\"].size(0))\n",
        "            losses.update(loss.item(), batch[\"ids\"].size(0))\n",
        "            tk0.set_postfix(loss=losses.avg, jaccard=jaccards.avg)\n",
        "    \n",
        "    print(f\"Jaccard = {jaccards.avg}\")\n",
        "    print(f\"Loss = {losses.avg}\")\n",
        "    return jaccards.avg, losses.avg"
      ],
      "execution_count": 12,
      "outputs": []
    },
    {
      "cell_type": "code",
      "metadata": {
        "id": "wLmNjNd41wv3",
        "trusted": true
      },
      "source": [
        "class AverageMeter:\n",
        "    \"\"\"\n",
        "    Computes and stores the average and current value\n",
        "    \"\"\"\n",
        "    def __init__(self):\n",
        "        self.reset()\n",
        "\n",
        "    def reset(self):\n",
        "        self.val = 0\n",
        "        self.avg = 0\n",
        "        self.sum = 0\n",
        "        self.count = 0\n",
        "\n",
        "    def update(self, val, n=1):\n",
        "        self.val = val\n",
        "        self.sum += val * n\n",
        "        self.count += n\n",
        "        self.avg = self.sum / self.count\n",
        "\n",
        "\n",
        "def jaccard(str1, str2):\n",
        "    a = set(str1.lower().split())\n",
        "    b = set(str2.lower().split())\n",
        "    c = a.intersection(b)\n",
        "    return float(len(c)) / (len(a) + len(b) - len(c))\n",
        "\n",
        "\n",
        "class EarlyStopping:\n",
        "    # https://github.com/Bjarten/early-stopping-pytorch/blob/master/pytorchtools.py\n",
        "    \"\"\"Early stops the training if validation loss doesn't improve after a given patience.\"\"\"\n",
        "    def __init__(self, patience=7, verbose=False, delta=0):\n",
        "        \"\"\"\n",
        "        Args:\n",
        "            patience (int): How long to wait after last time validation loss improved.\n",
        "                            Default: 7\n",
        "            verbose (bool): If True, prints a message for each validation loss improvement. \n",
        "                            Default: False\n",
        "            delta (float): Minimum change in the monitored quantity to qualify as an improvement.\n",
        "                            Default: 0\n",
        "        \"\"\"\n",
        "        self.patience = patience\n",
        "        self.verbose = verbose\n",
        "        self.counter = 0\n",
        "        self.best_score = None\n",
        "        self.early_stop = False\n",
        "        self.val_loss_min = np.Inf\n",
        "        self.delta = delta\n",
        "\n",
        "    def __call__(self, val_loss, model, name):\n",
        "\n",
        "        score = -val_loss\n",
        "\n",
        "        if self.best_score is None:\n",
        "            self.best_score = score\n",
        "            self.save_checkpoint(val_loss, model, name)\n",
        "        elif score < self.best_score + self.delta:\n",
        "            self.counter += 1\n",
        "            print(f'EarlyStopping counter: {self.counter} out of {self.patience}')\n",
        "            if self.counter >= self.patience:\n",
        "                self.early_stop = True\n",
        "        else:\n",
        "            self.best_score = score\n",
        "            self.save_checkpoint(val_loss, model, name)\n",
        "            self.counter = 0\n",
        "\n",
        "    def save_checkpoint(self, val_loss, model, name):\n",
        "        '''Saves model when validation loss decrease.'''\n",
        "        if self.verbose:\n",
        "            print(f'Validation loss decreased ({self.val_loss_min:.6f} --> {val_loss:.6f}).  Saving model ...')\n",
        "        torch.save(model.state_dict(), name)\n",
        "        self.val_loss_min = val_loss"
      ],
      "execution_count": 13,
      "outputs": []
    },
    {
      "cell_type": "code",
      "metadata": {
        "id": "v0tHJ24G1wwW",
        "trusted": true
      },
      "source": [
        "def run_fold(fold):\n",
        "\n",
        "    dfx = pd.read_csv(config.FOLDED_TRAINING_FILE)\n",
        "\n",
        "    df_train = dfx[dfx.kfold != fold].reset_index(drop=True)\n",
        "    df_valid = dfx[dfx.kfold == fold].reset_index(drop=True)\n",
        "\n",
        "    train_dataset = TweetDataset(\n",
        "        tweet=df_train.text.values,\n",
        "        sentiment=df_train.sentiment.values,\n",
        "        selected_text=df_train.selected_text.values\n",
        "    )\n",
        "\n",
        "    train_data_loader = torch.utils.data.DataLoader(\n",
        "        train_dataset,\n",
        "        batch_size=config.TRAIN_BATCH_SIZE,\n",
        "        num_workers=4,\n",
        "        #collate_fn=collate_fn\n",
        "    )\n",
        "\n",
        "    valid_dataset = TweetDataset(\n",
        "        tweet=df_valid.text.values,\n",
        "        sentiment=df_valid.sentiment.values,\n",
        "        selected_text=df_valid.selected_text.values\n",
        "    )\n",
        "\n",
        "    valid_data_loader = torch.utils.data.DataLoader(\n",
        "        valid_dataset,\n",
        "        batch_size=config.VALID_BATCH_SIZE,\n",
        "        num_workers=2,\n",
        "        #collate_fn=collate_fn\n",
        "    )\n",
        "    \n",
        "    device = torch.device(\"cuda\")\n",
        "\n",
        "    # initialise model\n",
        "    model = init_model(config)\n",
        "    \n",
        "    model.to(device)\n",
        "\n",
        "    num_train_steps = int(len(df_train) / config.TRAIN_BATCH_SIZE * config.EPOCHS)\n",
        "    param_optimizer = list(model.named_parameters())\n",
        "    no_decay = [\"bias\", \"LayerNorm.bias\", \"LayerNorm.weight\"]\n",
        "    optimizer_parameters = [\n",
        "        {'params': [p for n, p in param_optimizer \n",
        "                    if not any(nd in n for nd in no_decay)],\n",
        "          'weight_decay': 0.001},\n",
        "        {'params': [p for n, p in param_optimizer \n",
        "                    if any(nd in n for nd in no_decay)], \n",
        "         'weight_decay': 0.0},\n",
        "    ]\n",
        "    optimizer = AdamW(optimizer_parameters, lr=3e-5)\n",
        "    scheduler = get_linear_schedule_with_warmup(\n",
        "        optimizer, \n",
        "        num_warmup_steps=0, \n",
        "        num_training_steps=num_train_steps\n",
        "    )\n",
        "\n",
        "    es = EarlyStopping(patience=2, verbose=True)\n",
        "    print(f\"Training is Starting for fold={fold}\")\n",
        "    \n",
        "    for epoch in range(config.EPOCHS):\n",
        "        train_fn(train_data_loader, model, optimizer, device, scheduler=scheduler)\n",
        "        jaccard, loss = eval_fn(valid_data_loader, model, device)\n",
        "        print(f\"Jaccard Score = {jaccard}\")\n",
        "        print(f\"Loss score = {loss}\")\n",
        "        es(loss, model, name=config.MODEL_PATH / f\"model_{fold}.bin\")\n",
        "        \n",
        "        if es.early_stop:\n",
        "            print(\"Early stopping\")\n",
        "            break\n",
        "  \n",
        "    return es.val_loss_min"
      ],
      "execution_count": 15,
      "outputs": []
    },
    {
      "cell_type": "code",
      "metadata": {
        "id": "cg-Brrulbg8P",
        "trusted": true
      },
      "source": [
        "def create_train_folds():\n",
        "    df = pd.read_csv(config.TRAINING_FILE)\n",
        "    df = df.dropna().reset_index(drop=True)\n",
        "    df[\"kfold\"] = -1\n",
        "\n",
        "    df = df.sample(frac=1).reset_index(drop=True)\n",
        "\n",
        "    kf = model_selection.StratifiedKFold(n_splits=5, random_state=seed)\n",
        "\n",
        "    for fold, (trn_, val_) in enumerate(kf.split(X=df, y=df.sentiment.values)):\n",
        "        print(len(trn_), len(val_))\n",
        "        df.loc[val_, 'kfold'] = fold\n",
        "\n",
        "    df.to_csv(config.FOLDED_TRAINING_FILE, index=False)"
      ],
      "execution_count": 16,
      "outputs": []
    },
    {
      "cell_type": "markdown",
      "metadata": {
        "id": "Iyui81xMHLqQ"
      },
      "source": [
        "## Prediction"
      ]
    },
    {
      "cell_type": "code",
      "metadata": {
        "id": "pW0jJHfUkzTs",
        "trusted": true
      },
      "source": [
        " def predict_test():\n",
        "    df_test = pd.read_csv(config.TESTING_FILE)\n",
        "    df_test.loc[:, \"selected_text\"] = df_test.text.values\n",
        "\n",
        "    models = []\n",
        "\n",
        "    for mf in os.listdir(config.MODEL_PATH):\n",
        "        if not mf.endswith('.bin'):\n",
        "            continue\n",
        "        m = init_model(config)\n",
        "\n",
        "        m.load_state_dict(torch.load(config.MODEL_PATH / mf, map_location=device))\n",
        "        print(config.MODEL_PATH / mf)\n",
        "        m.eval()\n",
        "        # ensure we get output probabilities for all combinations of start and end position\n",
        "        m.start_n_top = config.MAX_LEN\n",
        "        m.end_n_top = config.MAX_LEN\n",
        "        m.to(device)\n",
        "\n",
        "        models.append(m)\n",
        "\n",
        "    test_dataset = TweetDataset(\n",
        "        tweet=df_test.text.values,\n",
        "        sentiment=df_test.sentiment.values,\n",
        "        selected_text=df_test.selected_text.values\n",
        "        )\n",
        "\n",
        "    test_data_loader = torch.utils.data.DataLoader(\n",
        "        test_dataset,\n",
        "        shuffle=False,\n",
        "        batch_size=config.VALID_BATCH_SIZE,\n",
        "        num_workers=1\n",
        "        )\n",
        "\n",
        "    final_output = []\n",
        "\n",
        "    with torch.no_grad():\n",
        "        tk0 = tqdm(test_data_loader, total=len(test_data_loader))\n",
        "        for bi, batch in enumerate(tk0):\n",
        "            ids = batch[\"ids\"].to(device, dtype=torch.long)\n",
        "            mask = batch[\"mask\"].to(device, dtype=torch.long)\n",
        "            token_type_ids = batch[\"token_type_ids\"].to(device, dtype=torch.long)\n",
        "            raw_tweet = batch[\"raw_tweet\"]\n",
        "            raw_selected_text = batch[\"raw_selected_text\"]\n",
        "            sentiment = batch[\"sentiment\"]\n",
        "            cleaned_tweet = batch[\"cleaned_tweet\"]\n",
        "            map_clean_to_raw = batch[\"map_clean_to_raw\"]\n",
        "            \n",
        "            (summed_start_end_probs_sorted = torch.zeros(\n",
        "                ids.shape[0],\n",
        "                config.MAX_LEN*config.MAX_LEN).to(device))\n",
        "\n",
        "            for model in models: \n",
        "                # run it again to get the probabilities\n",
        "                # https://huggingface.co/transformers/model_doc/xlnet.html#xlnetforquestionanswering\n",
        "                outputs = model(\n",
        "                    input_ids=ids,\n",
        "                    attention_mask=mask,\n",
        "                    token_type_ids=token_type_ids\n",
        "                )\n",
        "\n",
        "                # start_top_index contains the model.start_n_top highest \n",
        "                # probability starting sequence positions, in decreasing order\n",
        "                # of probability\n",
        "                start_top_probs = outputs[0]  \n",
        "            \n",
        "                # start_top_probs contain those positions' probabilities\n",
        "                # the documentation claims that the values are log probabilities,\n",
        "                # which seems to be incorrect given that the values are in [0-1]\n",
        "                start_top_index = outputs[1] \n",
        "\n",
        "                # the i-th element of start_top_index, start_top_probs are \n",
        "                # associated with elements j*model.start_n_top+i \n",
        "                # (j=1...model.end_n_top) of end_top_index, end_top_probs, where\n",
        "                # j represents the j-th highest probability end position and NOT\n",
        "                # with the i*END_N_TOP+j elements as used here \n",
        "                # https://github.com/huggingface/transformers/blob/master/src/transformers/data/metrics/squad_metrics.py#L639\n",
        "                # this can be verified by checking summation to unity\n",
        "                end_top_probs = outputs[2] \n",
        "                end_top_index = outputs[3] \n",
        "                \n",
        "                # calculate joint probability of start, end position tuples\n",
        "                start_end_probs = (start_top_probs.repeat(1, model.end_n_top)*\n",
        "                                   end_top_probs)\n",
        "\n",
        "                # reshape so that probabilities are ordered by sequence position\n",
        "                # rather than probability so that we can combine with output of\n",
        "                # other models\n",
        "                map_to_flat_sequence_position =\n",
        "                 ((end_top_index*torch.tensor(model.start_n_top))\n",
        "                 .add(start_top_index.repeat(1, model.end_n_top)))\n",
        "                _, indices = torch.sort(map_to_flat_sequence_position, dim=1)\n",
        "\n",
        "                start_end_probs_sorted = \n",
        "                (start_end_probs[\n",
        "                                 torch.repeat_interleave(\n",
        "                                     torch.arange(start_end_probs.shape[0]),\n",
        "                                     start_end_probs.shape[1])\n",
        "                                 .view(start_end_probs.shape),\n",
        "                                 indices])\n",
        "\n",
        "                summed_start_end_probs_sorted += start_end_probs_sorted\n",
        "\n",
        "            avg_start_end_probs_sorted = (summed_start_end_probs_sorted/\n",
        "                                          torch.tensor(len(models)))\n",
        "\n",
        "            # get (flat) position in sequence of highest probability tuple\n",
        "            top_avg_start_end_probs_sorted = avg_start_end_probs_sorted.argmax(dim=1)\n",
        "\n",
        "            # convert flat position to separate start and end positions\n",
        "            start_top_positions = ((top_avg_start_end_probs_sorted %\n",
        "                                    torch.tensor(config.MAX_LEN).to(device))\n",
        "                                    .cpu().detach().numpy())\n",
        "            end_top_positions = ((top_avg_start_end_probs_sorted //\n",
        "                                  torch.tensor(config.MAX_LEN).to(device))\n",
        "                                    .cpu().detach().numpy())\n",
        "\n",
        "            jaccard_scores = []\n",
        "            for px, tweet in enumerate(raw_tweet):\n",
        "                predicted_text = extract_predicted_text(\n",
        "                    ids=ids[px].tolist(),\n",
        "                    predicted_start=start_top_positions[px],\n",
        "                    predicted_end=end_top_positions[px],\n",
        "                    cleaned_tweet=cleaned_tweet[px], \n",
        "                    raw_tweet=raw_tweet[px], \n",
        "                    map_clean_to_raw=map_clean_to_raw[px],\n",
        "                    sentiment=sentiment[px])\n",
        "                \n",
        "                final_output.append(predicted_text)\n",
        "\n",
        "    sample = pd.read_csv(config.SAMPLE_SUBMISSION_FILE)\n",
        "    sample.loc[:, 'selected_text'] = final_output\n",
        "    sample.to_csv(\"submission.csv\", index=False)\n"
      ],
      "execution_count": 24,
      "outputs": []
    },
    {
      "cell_type": "code",
      "metadata": {
        "id": "mUwMNkb1Hq3w",
        "trusted": true
      },
      "source": [
        "def run_training():\n",
        "  if not os.path.exists(config.MODEL_PATH):\n",
        "    os.mkdir(config.MODEL_PATH)\n",
        "  val_loss = []\n",
        "  for ifold in range(5):\n",
        "      q = run_fold(ifold)\n",
        "      val_loss.append(q)\n",
        "  print(f'Mean val loss: {np.mean(val_loss)}')"
      ],
      "execution_count": 14,
      "outputs": []
    },
    {
      "cell_type": "markdown",
      "metadata": {
        "id": "2uAP683Z1wwZ"
      },
      "source": [
        "## Run code"
      ]
    },
    {
      "cell_type": "code",
      "metadata": {
        "colab": {
          "base_uri": "https://localhost:8080/"
        },
        "id": "Tl8-9Ps-3eI2",
        "outputId": "5a0027a6-4f48-42ec-9941-ce4fa6fe2580"
      },
      "source": [
        "run_training()"
      ],
      "execution_count": 15,
      "outputs": [
        {
          "output_type": "stream",
          "text": [
            "/usr/local/lib/python3.7/dist-packages/torch/utils/data/dataloader.py:477: UserWarning: This DataLoader will create 4 worker processes in total. Our suggested max number of worker in current system is 2, which is smaller than what this DataLoader is going to create. Please be aware that excessive worker creation might get DataLoader running slow or even freeze, lower the worker number to avoid potential slowness/freeze if necessary.\n",
            "  cpuset_checked))\n",
            "Some weights of the model checkpoint at /content/drive/My Drive/kaggle/tweet_sentiment_extraction/input/xlnetbasecased were not used when initializing XLNetForQuestionAnswering: ['lm_loss.weight', 'lm_loss.bias']\n",
            "- This IS expected if you are initializing XLNetForQuestionAnswering from the checkpoint of a model trained on another task or with another architecture (e.g. initializing a BertForSequenceClassification model from a BertForPreTraining model).\n",
            "- This IS NOT expected if you are initializing XLNetForQuestionAnswering from the checkpoint of a model that you expect to be exactly identical (initializing a BertForSequenceClassification model from a BertForSequenceClassification model).\n",
            "Some weights of XLNetForQuestionAnswering were not initialized from the model checkpoint at /content/drive/My Drive/kaggle/tweet_sentiment_extraction/input/xlnetbasecased and are newly initialized: ['start_logits.dense.weight', 'start_logits.dense.bias', 'end_logits.dense_0.weight', 'end_logits.dense_0.bias', 'end_logits.LayerNorm.weight', 'end_logits.LayerNorm.bias', 'end_logits.dense_1.weight', 'end_logits.dense_1.bias', 'answer_class.dense_0.weight', 'answer_class.dense_0.bias', 'answer_class.dense_1.weight']\n",
            "You should probably TRAIN this model on a down-stream task to be able to use it for predictions and inference.\n",
            "  0%|          | 0/1374 [00:00<?, ?it/s]"
          ],
          "name": "stderr"
        },
        {
          "output_type": "stream",
          "text": [
            "Training is Starting for fold=0\n"
          ],
          "name": "stdout"
        },
        {
          "output_type": "stream",
          "text": [
            "100%|██████████| 1374/1374 [21:31<00:00,  1.06it/s, loss=1.05]\n",
            "100%|██████████| 344/344 [06:19<00:00,  1.10s/it, jaccard=0.693, loss=0.74]\n"
          ],
          "name": "stderr"
        },
        {
          "output_type": "stream",
          "text": [
            "Jaccard = 0.6933858671874643\n",
            "Loss = 0.739713139625963\n",
            "Jaccard Score = 0.6933858671874643\n",
            "Loss score = 0.739713139625963\n",
            "Validation loss decreased (inf --> 0.739713).  Saving model ...\n"
          ],
          "name": "stdout"
        },
        {
          "output_type": "stream",
          "text": [
            "100%|██████████| 1374/1374 [21:23<00:00,  1.07it/s, loss=0.705]\n",
            "100%|██████████| 344/344 [06:19<00:00,  1.10s/it, jaccard=0.696, loss=0.726]\n"
          ],
          "name": "stderr"
        },
        {
          "output_type": "stream",
          "text": [
            "Jaccard = 0.6956763293629268\n",
            "Loss = 0.7264420092973473\n",
            "Jaccard Score = 0.6956763293629268\n",
            "Loss score = 0.7264420092973473\n",
            "Validation loss decreased (0.739713 --> 0.726442).  Saving model ...\n"
          ],
          "name": "stdout"
        },
        {
          "output_type": "stream",
          "text": [
            "100%|██████████| 1374/1374 [21:23<00:00,  1.07it/s, loss=0.597]\n",
            "100%|██████████| 344/344 [06:19<00:00,  1.10s/it, jaccard=0.695, loss=0.762]\n",
            "  0%|          | 0/1374 [00:00<?, ?it/s]"
          ],
          "name": "stderr"
        },
        {
          "output_type": "stream",
          "text": [
            "Jaccard = 0.6946731120411536\n",
            "Loss = 0.7619970934533309\n",
            "Jaccard Score = 0.6946731120411536\n",
            "Loss score = 0.7619970934533309\n",
            "EarlyStopping counter: 1 out of 2\n"
          ],
          "name": "stdout"
        },
        {
          "output_type": "stream",
          "text": [
            "100%|██████████| 1374/1374 [21:20<00:00,  1.07it/s, loss=0.501]\n",
            "100%|██████████| 344/344 [06:19<00:00,  1.10s/it, jaccard=0.697, loss=0.827]\n",
            "/usr/local/lib/python3.7/dist-packages/torch/utils/data/dataloader.py:477: UserWarning: This DataLoader will create 4 worker processes in total. Our suggested max number of worker in current system is 2, which is smaller than what this DataLoader is going to create. Please be aware that excessive worker creation might get DataLoader running slow or even freeze, lower the worker number to avoid potential slowness/freeze if necessary.\n",
            "  cpuset_checked))\n"
          ],
          "name": "stderr"
        },
        {
          "output_type": "stream",
          "text": [
            "Jaccard = 0.6966810260876412\n",
            "Loss = 0.8271476855444596\n",
            "Jaccard Score = 0.6966810260876412\n",
            "Loss score = 0.8271476855444596\n",
            "EarlyStopping counter: 2 out of 2\n",
            "Early stopping\n"
          ],
          "name": "stdout"
        },
        {
          "output_type": "stream",
          "text": [
            "Some weights of the model checkpoint at /content/drive/My Drive/kaggle/tweet_sentiment_extraction/input/xlnetbasecased were not used when initializing XLNetForQuestionAnswering: ['lm_loss.weight', 'lm_loss.bias']\n",
            "- This IS expected if you are initializing XLNetForQuestionAnswering from the checkpoint of a model trained on another task or with another architecture (e.g. initializing a BertForSequenceClassification model from a BertForPreTraining model).\n",
            "- This IS NOT expected if you are initializing XLNetForQuestionAnswering from the checkpoint of a model that you expect to be exactly identical (initializing a BertForSequenceClassification model from a BertForSequenceClassification model).\n",
            "Some weights of XLNetForQuestionAnswering were not initialized from the model checkpoint at /content/drive/My Drive/kaggle/tweet_sentiment_extraction/input/xlnetbasecased and are newly initialized: ['start_logits.dense.weight', 'start_logits.dense.bias', 'end_logits.dense_0.weight', 'end_logits.dense_0.bias', 'end_logits.LayerNorm.weight', 'end_logits.LayerNorm.bias', 'end_logits.dense_1.weight', 'end_logits.dense_1.bias', 'answer_class.dense_0.weight', 'answer_class.dense_0.bias', 'answer_class.dense_1.weight']\n",
            "You should probably TRAIN this model on a down-stream task to be able to use it for predictions and inference.\n",
            "  0%|          | 0/1374 [00:00<?, ?it/s]"
          ],
          "name": "stderr"
        },
        {
          "output_type": "stream",
          "text": [
            "Training is Starting for fold=1\n"
          ],
          "name": "stdout"
        },
        {
          "output_type": "stream",
          "text": [
            "100%|██████████| 1374/1374 [21:28<00:00,  1.07it/s, loss=1.03]\n",
            "100%|██████████| 344/344 [06:22<00:00,  1.11s/it, jaccard=0.696, loss=0.763]\n"
          ],
          "name": "stderr"
        },
        {
          "output_type": "stream",
          "text": [
            "Jaccard = 0.6962721980595274\n",
            "Loss = 0.7627202341823772\n",
            "Jaccard Score = 0.6962721980595274\n",
            "Loss score = 0.7627202341823772\n",
            "Validation loss decreased (inf --> 0.762720).  Saving model ...\n"
          ],
          "name": "stdout"
        },
        {
          "output_type": "stream",
          "text": [
            "100%|██████████| 1374/1374 [21:32<00:00,  1.06it/s, loss=0.708]\n",
            "100%|██████████| 344/344 [06:23<00:00,  1.11s/it, jaccard=0.702, loss=0.744]\n"
          ],
          "name": "stderr"
        },
        {
          "output_type": "stream",
          "text": [
            "Jaccard = 0.7016342820090321\n",
            "Loss = 0.7437113602869375\n",
            "Jaccard Score = 0.7016342820090321\n",
            "Loss score = 0.7437113602869375\n",
            "Validation loss decreased (0.762720 --> 0.743711).  Saving model ...\n"
          ],
          "name": "stdout"
        },
        {
          "output_type": "stream",
          "text": [
            "100%|██████████| 1374/1374 [21:34<00:00,  1.06it/s, loss=0.594]\n",
            "100%|██████████| 344/344 [06:22<00:00,  1.11s/it, jaccard=0.699, loss=0.772]\n",
            "  0%|          | 0/1374 [00:00<?, ?it/s]"
          ],
          "name": "stderr"
        },
        {
          "output_type": "stream",
          "text": [
            "Jaccard = 0.6989230440174131\n",
            "Loss = 0.7722244643141262\n",
            "Jaccard Score = 0.6989230440174131\n",
            "Loss score = 0.7722244643141262\n",
            "EarlyStopping counter: 1 out of 2\n"
          ],
          "name": "stdout"
        },
        {
          "output_type": "stream",
          "text": [
            "100%|██████████| 1374/1374 [21:32<00:00,  1.06it/s, loss=0.496]\n",
            "100%|██████████| 344/344 [06:23<00:00,  1.11s/it, jaccard=0.7, loss=0.868]\n",
            "/usr/local/lib/python3.7/dist-packages/torch/utils/data/dataloader.py:477: UserWarning: This DataLoader will create 4 worker processes in total. Our suggested max number of worker in current system is 2, which is smaller than what this DataLoader is going to create. Please be aware that excessive worker creation might get DataLoader running slow or even freeze, lower the worker number to avoid potential slowness/freeze if necessary.\n",
            "  cpuset_checked))\n"
          ],
          "name": "stderr"
        },
        {
          "output_type": "stream",
          "text": [
            "Jaccard = 0.7001920867856443\n",
            "Loss = 0.8676389464471365\n",
            "Jaccard Score = 0.7001920867856443\n",
            "Loss score = 0.8676389464471365\n",
            "EarlyStopping counter: 2 out of 2\n",
            "Early stopping\n"
          ],
          "name": "stdout"
        },
        {
          "output_type": "stream",
          "text": [
            "Some weights of the model checkpoint at /content/drive/My Drive/kaggle/tweet_sentiment_extraction/input/xlnetbasecased were not used when initializing XLNetForQuestionAnswering: ['lm_loss.weight', 'lm_loss.bias']\n",
            "- This IS expected if you are initializing XLNetForQuestionAnswering from the checkpoint of a model trained on another task or with another architecture (e.g. initializing a BertForSequenceClassification model from a BertForPreTraining model).\n",
            "- This IS NOT expected if you are initializing XLNetForQuestionAnswering from the checkpoint of a model that you expect to be exactly identical (initializing a BertForSequenceClassification model from a BertForSequenceClassification model).\n",
            "Some weights of XLNetForQuestionAnswering were not initialized from the model checkpoint at /content/drive/My Drive/kaggle/tweet_sentiment_extraction/input/xlnetbasecased and are newly initialized: ['start_logits.dense.weight', 'start_logits.dense.bias', 'end_logits.dense_0.weight', 'end_logits.dense_0.bias', 'end_logits.LayerNorm.weight', 'end_logits.LayerNorm.bias', 'end_logits.dense_1.weight', 'end_logits.dense_1.bias', 'answer_class.dense_0.weight', 'answer_class.dense_0.bias', 'answer_class.dense_1.weight']\n",
            "You should probably TRAIN this model on a down-stream task to be able to use it for predictions and inference.\n",
            "  0%|          | 0/1374 [00:00<?, ?it/s]"
          ],
          "name": "stderr"
        },
        {
          "output_type": "stream",
          "text": [
            "Training is Starting for fold=2\n"
          ],
          "name": "stdout"
        },
        {
          "output_type": "stream",
          "text": [
            "100%|██████████| 1374/1374 [21:28<00:00,  1.07it/s, loss=1.03]\n",
            "100%|██████████| 344/344 [06:23<00:00,  1.11s/it, jaccard=0.689, loss=0.773]\n"
          ],
          "name": "stderr"
        },
        {
          "output_type": "stream",
          "text": [
            "Jaccard = 0.6889942503074002\n",
            "Loss = 0.7731594973429495\n",
            "Jaccard Score = 0.6889942503074002\n",
            "Loss score = 0.7731594973429495\n",
            "Validation loss decreased (inf --> 0.773159).  Saving model ...\n"
          ],
          "name": "stdout"
        },
        {
          "output_type": "stream",
          "text": [
            "100%|██████████| 1374/1374 [21:27<00:00,  1.07it/s, loss=0.716]\n",
            "100%|██████████| 344/344 [06:23<00:00,  1.11s/it, jaccard=0.693, loss=0.769]\n"
          ],
          "name": "stderr"
        },
        {
          "output_type": "stream",
          "text": [
            "Jaccard = 0.6927704416449746\n",
            "Loss = 0.7690644915360724\n",
            "Jaccard Score = 0.6927704416449746\n",
            "Loss score = 0.7690644915360724\n",
            "Validation loss decreased (0.773159 --> 0.769064).  Saving model ...\n"
          ],
          "name": "stdout"
        },
        {
          "output_type": "stream",
          "text": [
            "100%|██████████| 1374/1374 [21:25<00:00,  1.07it/s, loss=0.605]\n",
            "100%|██████████| 344/344 [06:23<00:00,  1.11s/it, jaccard=0.699, loss=0.752]\n"
          ],
          "name": "stderr"
        },
        {
          "output_type": "stream",
          "text": [
            "Jaccard = 0.6988917695239182\n",
            "Loss = 0.7520149143675703\n",
            "Jaccard Score = 0.6988917695239182\n",
            "Loss score = 0.7520149143675703\n",
            "Validation loss decreased (0.769064 --> 0.752015).  Saving model ...\n"
          ],
          "name": "stdout"
        },
        {
          "output_type": "stream",
          "text": [
            "100%|██████████| 1374/1374 [21:22<00:00,  1.07it/s, loss=0.505]\n",
            "100%|██████████| 344/344 [06:23<00:00,  1.11s/it, jaccard=0.7, loss=0.829]\n",
            "  0%|          | 0/1374 [00:00<?, ?it/s]"
          ],
          "name": "stderr"
        },
        {
          "output_type": "stream",
          "text": [
            "Jaccard = 0.699906402550087\n",
            "Loss = 0.8291856816155074\n",
            "Jaccard Score = 0.699906402550087\n",
            "Loss score = 0.8291856816155074\n",
            "EarlyStopping counter: 1 out of 2\n"
          ],
          "name": "stdout"
        },
        {
          "output_type": "stream",
          "text": [
            "100%|██████████| 1374/1374 [21:23<00:00,  1.07it/s, loss=0.418]\n",
            "100%|██████████| 344/344 [06:23<00:00,  1.11s/it, jaccard=0.694, loss=0.973]\n",
            "/usr/local/lib/python3.7/dist-packages/torch/utils/data/dataloader.py:477: UserWarning: This DataLoader will create 4 worker processes in total. Our suggested max number of worker in current system is 2, which is smaller than what this DataLoader is going to create. Please be aware that excessive worker creation might get DataLoader running slow or even freeze, lower the worker number to avoid potential slowness/freeze if necessary.\n",
            "  cpuset_checked))\n"
          ],
          "name": "stderr"
        },
        {
          "output_type": "stream",
          "text": [
            "Jaccard = 0.6937912822987865\n",
            "Loss = 0.9730164621247648\n",
            "Jaccard Score = 0.6937912822987865\n",
            "Loss score = 0.9730164621247648\n",
            "EarlyStopping counter: 2 out of 2\n",
            "Early stopping\n"
          ],
          "name": "stdout"
        },
        {
          "output_type": "stream",
          "text": [
            "Some weights of the model checkpoint at /content/drive/My Drive/kaggle/tweet_sentiment_extraction/input/xlnetbasecased were not used when initializing XLNetForQuestionAnswering: ['lm_loss.weight', 'lm_loss.bias']\n",
            "- This IS expected if you are initializing XLNetForQuestionAnswering from the checkpoint of a model trained on another task or with another architecture (e.g. initializing a BertForSequenceClassification model from a BertForPreTraining model).\n",
            "- This IS NOT expected if you are initializing XLNetForQuestionAnswering from the checkpoint of a model that you expect to be exactly identical (initializing a BertForSequenceClassification model from a BertForSequenceClassification model).\n",
            "Some weights of XLNetForQuestionAnswering were not initialized from the model checkpoint at /content/drive/My Drive/kaggle/tweet_sentiment_extraction/input/xlnetbasecased and are newly initialized: ['start_logits.dense.weight', 'start_logits.dense.bias', 'end_logits.dense_0.weight', 'end_logits.dense_0.bias', 'end_logits.LayerNorm.weight', 'end_logits.LayerNorm.bias', 'end_logits.dense_1.weight', 'end_logits.dense_1.bias', 'answer_class.dense_0.weight', 'answer_class.dense_0.bias', 'answer_class.dense_1.weight']\n",
            "You should probably TRAIN this model on a down-stream task to be able to use it for predictions and inference.\n",
            "  0%|          | 0/1374 [00:00<?, ?it/s]"
          ],
          "name": "stderr"
        },
        {
          "output_type": "stream",
          "text": [
            "Training is Starting for fold=3\n"
          ],
          "name": "stdout"
        },
        {
          "output_type": "stream",
          "text": [
            "100%|██████████| 1374/1374 [21:26<00:00,  1.07it/s, loss=1.01]\n",
            "100%|██████████| 344/344 [06:23<00:00,  1.11s/it, jaccard=0.693, loss=0.739]\n"
          ],
          "name": "stderr"
        },
        {
          "output_type": "stream",
          "text": [
            "Jaccard = 0.6931444483510598\n",
            "Loss = 0.7394703851776873\n",
            "Jaccard Score = 0.6931444483510598\n",
            "Loss score = 0.7394703851776873\n",
            "Validation loss decreased (inf --> 0.739470).  Saving model ...\n"
          ],
          "name": "stdout"
        },
        {
          "output_type": "stream",
          "text": [
            "100%|██████████| 1374/1374 [21:24<00:00,  1.07it/s, loss=0.693]\n",
            "100%|██████████| 344/344 [06:23<00:00,  1.11s/it, jaccard=0.701, loss=0.734]\n"
          ],
          "name": "stderr"
        },
        {
          "output_type": "stream",
          "text": [
            "Jaccard = 0.7011734745821638\n",
            "Loss = 0.7339338499298956\n",
            "Jaccard Score = 0.7011734745821638\n",
            "Loss score = 0.7339338499298956\n",
            "Validation loss decreased (0.739470 --> 0.733934).  Saving model ...\n"
          ],
          "name": "stdout"
        },
        {
          "output_type": "stream",
          "text": [
            "100%|██████████| 1374/1374 [21:23<00:00,  1.07it/s, loss=0.587]\n",
            "100%|██████████| 344/344 [06:23<00:00,  1.11s/it, jaccard=0.699, loss=0.757]\n",
            "  0%|          | 0/1374 [00:00<?, ?it/s]"
          ],
          "name": "stderr"
        },
        {
          "output_type": "stream",
          "text": [
            "Jaccard = 0.6991793387654295\n",
            "Loss = 0.757322615671366\n",
            "Jaccard Score = 0.6991793387654295\n",
            "Loss score = 0.757322615671366\n",
            "EarlyStopping counter: 1 out of 2\n"
          ],
          "name": "stdout"
        },
        {
          "output_type": "stream",
          "text": [
            "100%|██████████| 1374/1374 [21:19<00:00,  1.07it/s, loss=0.494]\n",
            "100%|██████████| 344/344 [06:22<00:00,  1.11s/it, jaccard=0.696, loss=0.867]\n",
            "/usr/local/lib/python3.7/dist-packages/torch/utils/data/dataloader.py:477: UserWarning: This DataLoader will create 4 worker processes in total. Our suggested max number of worker in current system is 2, which is smaller than what this DataLoader is going to create. Please be aware that excessive worker creation might get DataLoader running slow or even freeze, lower the worker number to avoid potential slowness/freeze if necessary.\n",
            "  cpuset_checked))\n"
          ],
          "name": "stderr"
        },
        {
          "output_type": "stream",
          "text": [
            "Jaccard = 0.6963362756236359\n",
            "Loss = 0.8667122767221459\n",
            "Jaccard Score = 0.6963362756236359\n",
            "Loss score = 0.8667122767221459\n",
            "EarlyStopping counter: 2 out of 2\n",
            "Early stopping\n"
          ],
          "name": "stdout"
        },
        {
          "output_type": "stream",
          "text": [
            "Some weights of the model checkpoint at /content/drive/My Drive/kaggle/tweet_sentiment_extraction/input/xlnetbasecased were not used when initializing XLNetForQuestionAnswering: ['lm_loss.weight', 'lm_loss.bias']\n",
            "- This IS expected if you are initializing XLNetForQuestionAnswering from the checkpoint of a model trained on another task or with another architecture (e.g. initializing a BertForSequenceClassification model from a BertForPreTraining model).\n",
            "- This IS NOT expected if you are initializing XLNetForQuestionAnswering from the checkpoint of a model that you expect to be exactly identical (initializing a BertForSequenceClassification model from a BertForSequenceClassification model).\n",
            "Some weights of XLNetForQuestionAnswering were not initialized from the model checkpoint at /content/drive/My Drive/kaggle/tweet_sentiment_extraction/input/xlnetbasecased and are newly initialized: ['start_logits.dense.weight', 'start_logits.dense.bias', 'end_logits.dense_0.weight', 'end_logits.dense_0.bias', 'end_logits.LayerNorm.weight', 'end_logits.LayerNorm.bias', 'end_logits.dense_1.weight', 'end_logits.dense_1.bias', 'answer_class.dense_0.weight', 'answer_class.dense_0.bias', 'answer_class.dense_1.weight']\n",
            "You should probably TRAIN this model on a down-stream task to be able to use it for predictions and inference.\n",
            "  0%|          | 0/1374 [00:00<?, ?it/s]"
          ],
          "name": "stderr"
        },
        {
          "output_type": "stream",
          "text": [
            "Training is Starting for fold=4\n"
          ],
          "name": "stdout"
        },
        {
          "output_type": "stream",
          "text": [
            "100%|██████████| 1374/1374 [21:21<00:00,  1.07it/s, loss=1.04]\n",
            "100%|██████████| 344/344 [06:22<00:00,  1.11s/it, jaccard=0.7, loss=0.779]\n"
          ],
          "name": "stderr"
        },
        {
          "output_type": "stream",
          "text": [
            "Jaccard = 0.6995305653031999\n",
            "Loss = 0.7792923773653816\n",
            "Jaccard Score = 0.6995305653031999\n",
            "Loss score = 0.7792923773653816\n",
            "Validation loss decreased (inf --> 0.779292).  Saving model ...\n"
          ],
          "name": "stdout"
        },
        {
          "output_type": "stream",
          "text": [
            "100%|██████████| 1374/1374 [21:20<00:00,  1.07it/s, loss=0.715]\n",
            "100%|██████████| 344/344 [06:23<00:00,  1.11s/it, jaccard=0.699, loss=0.778]\n"
          ],
          "name": "stderr"
        },
        {
          "output_type": "stream",
          "text": [
            "Jaccard = 0.6987314163804796\n",
            "Loss = 0.7777721002546113\n",
            "Jaccard Score = 0.6987314163804796\n",
            "Loss score = 0.7777721002546113\n",
            "Validation loss decreased (0.779292 --> 0.777772).  Saving model ...\n"
          ],
          "name": "stdout"
        },
        {
          "output_type": "stream",
          "text": [
            "100%|██████████| 1374/1374 [21:20<00:00,  1.07it/s, loss=0.602]\n",
            "100%|██████████| 344/344 [06:22<00:00,  1.11s/it, jaccard=0.699, loss=0.815]\n",
            "  0%|          | 0/1374 [00:00<?, ?it/s]"
          ],
          "name": "stderr"
        },
        {
          "output_type": "stream",
          "text": [
            "Jaccard = 0.6986879948831899\n",
            "Loss = 0.8148685877239861\n",
            "Jaccard Score = 0.6986879948831899\n",
            "Loss score = 0.8148685877239861\n",
            "EarlyStopping counter: 1 out of 2\n"
          ],
          "name": "stdout"
        },
        {
          "output_type": "stream",
          "text": [
            "100%|██████████| 1374/1374 [21:21<00:00,  1.07it/s, loss=0.509]\n",
            "100%|██████████| 344/344 [06:21<00:00,  1.11s/it, jaccard=0.696, loss=0.951]"
          ],
          "name": "stderr"
        },
        {
          "output_type": "stream",
          "text": [
            "Jaccard = 0.69648389295325\n",
            "Loss = 0.95058399321731\n",
            "Jaccard Score = 0.69648389295325\n",
            "Loss score = 0.95058399321731\n",
            "EarlyStopping counter: 2 out of 2\n",
            "Early stopping\n",
            "Mean val loss: 0.7467748468272724\n"
          ],
          "name": "stdout"
        },
        {
          "output_type": "stream",
          "text": [
            "\n"
          ],
          "name": "stderr"
        }
      ]
    },
    {
      "cell_type": "code",
      "metadata": {
        "colab": {
          "base_uri": "https://localhost:8080/"
        },
        "id": "nRMRNDWUmUMw",
        "outputId": "8ea80b06-895a-4169-efa9-527dfcc19626"
      },
      "source": [
        "predict_test()"
      ],
      "execution_count": 25,
      "outputs": [
        {
          "output_type": "stream",
          "text": [
            "Some weights of the model checkpoint at /content/drive/My Drive/kaggle/tweet_sentiment_extraction/input/xlnetbasecased were not used when initializing XLNetForQuestionAnswering: ['lm_loss.weight', 'lm_loss.bias']\n",
            "- This IS expected if you are initializing XLNetForQuestionAnswering from the checkpoint of a model trained on another task or with another architecture (e.g. initializing a BertForSequenceClassification model from a BertForPreTraining model).\n",
            "- This IS NOT expected if you are initializing XLNetForQuestionAnswering from the checkpoint of a model that you expect to be exactly identical (initializing a BertForSequenceClassification model from a BertForSequenceClassification model).\n",
            "Some weights of XLNetForQuestionAnswering were not initialized from the model checkpoint at /content/drive/My Drive/kaggle/tweet_sentiment_extraction/input/xlnetbasecased and are newly initialized: ['start_logits.dense.weight', 'start_logits.dense.bias', 'end_logits.dense_0.weight', 'end_logits.dense_0.bias', 'end_logits.LayerNorm.weight', 'end_logits.LayerNorm.bias', 'end_logits.dense_1.weight', 'end_logits.dense_1.bias', 'answer_class.dense_0.weight', 'answer_class.dense_0.bias', 'answer_class.dense_1.weight']\n",
            "You should probably TRAIN this model on a down-stream task to be able to use it for predictions and inference.\n"
          ],
          "name": "stderr"
        },
        {
          "output_type": "stream",
          "text": [
            "/content/drive/My Drive/kaggle/tweet_sentiment_extraction/model_save/model_0613_6/model_0.bin\n"
          ],
          "name": "stdout"
        },
        {
          "output_type": "stream",
          "text": [
            "Some weights of the model checkpoint at /content/drive/My Drive/kaggle/tweet_sentiment_extraction/input/xlnetbasecased were not used when initializing XLNetForQuestionAnswering: ['lm_loss.weight', 'lm_loss.bias']\n",
            "- This IS expected if you are initializing XLNetForQuestionAnswering from the checkpoint of a model trained on another task or with another architecture (e.g. initializing a BertForSequenceClassification model from a BertForPreTraining model).\n",
            "- This IS NOT expected if you are initializing XLNetForQuestionAnswering from the checkpoint of a model that you expect to be exactly identical (initializing a BertForSequenceClassification model from a BertForSequenceClassification model).\n",
            "Some weights of XLNetForQuestionAnswering were not initialized from the model checkpoint at /content/drive/My Drive/kaggle/tweet_sentiment_extraction/input/xlnetbasecased and are newly initialized: ['start_logits.dense.weight', 'start_logits.dense.bias', 'end_logits.dense_0.weight', 'end_logits.dense_0.bias', 'end_logits.LayerNorm.weight', 'end_logits.LayerNorm.bias', 'end_logits.dense_1.weight', 'end_logits.dense_1.bias', 'answer_class.dense_0.weight', 'answer_class.dense_0.bias', 'answer_class.dense_1.weight']\n",
            "You should probably TRAIN this model on a down-stream task to be able to use it for predictions and inference.\n"
          ],
          "name": "stderr"
        },
        {
          "output_type": "stream",
          "text": [
            "/content/drive/My Drive/kaggle/tweet_sentiment_extraction/model_save/model_0613_6/model_1.bin\n"
          ],
          "name": "stdout"
        },
        {
          "output_type": "stream",
          "text": [
            "Some weights of the model checkpoint at /content/drive/My Drive/kaggle/tweet_sentiment_extraction/input/xlnetbasecased were not used when initializing XLNetForQuestionAnswering: ['lm_loss.weight', 'lm_loss.bias']\n",
            "- This IS expected if you are initializing XLNetForQuestionAnswering from the checkpoint of a model trained on another task or with another architecture (e.g. initializing a BertForSequenceClassification model from a BertForPreTraining model).\n",
            "- This IS NOT expected if you are initializing XLNetForQuestionAnswering from the checkpoint of a model that you expect to be exactly identical (initializing a BertForSequenceClassification model from a BertForSequenceClassification model).\n",
            "Some weights of XLNetForQuestionAnswering were not initialized from the model checkpoint at /content/drive/My Drive/kaggle/tweet_sentiment_extraction/input/xlnetbasecased and are newly initialized: ['start_logits.dense.weight', 'start_logits.dense.bias', 'end_logits.dense_0.weight', 'end_logits.dense_0.bias', 'end_logits.LayerNorm.weight', 'end_logits.LayerNorm.bias', 'end_logits.dense_1.weight', 'end_logits.dense_1.bias', 'answer_class.dense_0.weight', 'answer_class.dense_0.bias', 'answer_class.dense_1.weight']\n",
            "You should probably TRAIN this model on a down-stream task to be able to use it for predictions and inference.\n"
          ],
          "name": "stderr"
        },
        {
          "output_type": "stream",
          "text": [
            "/content/drive/My Drive/kaggle/tweet_sentiment_extraction/model_save/model_0613_6/model_2.bin\n"
          ],
          "name": "stdout"
        },
        {
          "output_type": "stream",
          "text": [
            "Some weights of the model checkpoint at /content/drive/My Drive/kaggle/tweet_sentiment_extraction/input/xlnetbasecased were not used when initializing XLNetForQuestionAnswering: ['lm_loss.weight', 'lm_loss.bias']\n",
            "- This IS expected if you are initializing XLNetForQuestionAnswering from the checkpoint of a model trained on another task or with another architecture (e.g. initializing a BertForSequenceClassification model from a BertForPreTraining model).\n",
            "- This IS NOT expected if you are initializing XLNetForQuestionAnswering from the checkpoint of a model that you expect to be exactly identical (initializing a BertForSequenceClassification model from a BertForSequenceClassification model).\n",
            "Some weights of XLNetForQuestionAnswering were not initialized from the model checkpoint at /content/drive/My Drive/kaggle/tweet_sentiment_extraction/input/xlnetbasecased and are newly initialized: ['start_logits.dense.weight', 'start_logits.dense.bias', 'end_logits.dense_0.weight', 'end_logits.dense_0.bias', 'end_logits.LayerNorm.weight', 'end_logits.LayerNorm.bias', 'end_logits.dense_1.weight', 'end_logits.dense_1.bias', 'answer_class.dense_0.weight', 'answer_class.dense_0.bias', 'answer_class.dense_1.weight']\n",
            "You should probably TRAIN this model on a down-stream task to be able to use it for predictions and inference.\n"
          ],
          "name": "stderr"
        },
        {
          "output_type": "stream",
          "text": [
            "/content/drive/My Drive/kaggle/tweet_sentiment_extraction/model_save/model_0613_6/model_3.bin\n"
          ],
          "name": "stdout"
        },
        {
          "output_type": "stream",
          "text": [
            "Some weights of the model checkpoint at /content/drive/My Drive/kaggle/tweet_sentiment_extraction/input/xlnetbasecased were not used when initializing XLNetForQuestionAnswering: ['lm_loss.weight', 'lm_loss.bias']\n",
            "- This IS expected if you are initializing XLNetForQuestionAnswering from the checkpoint of a model trained on another task or with another architecture (e.g. initializing a BertForSequenceClassification model from a BertForPreTraining model).\n",
            "- This IS NOT expected if you are initializing XLNetForQuestionAnswering from the checkpoint of a model that you expect to be exactly identical (initializing a BertForSequenceClassification model from a BertForSequenceClassification model).\n",
            "Some weights of XLNetForQuestionAnswering were not initialized from the model checkpoint at /content/drive/My Drive/kaggle/tweet_sentiment_extraction/input/xlnetbasecased and are newly initialized: ['start_logits.dense.weight', 'start_logits.dense.bias', 'end_logits.dense_0.weight', 'end_logits.dense_0.bias', 'end_logits.LayerNorm.weight', 'end_logits.LayerNorm.bias', 'end_logits.dense_1.weight', 'end_logits.dense_1.bias', 'answer_class.dense_0.weight', 'answer_class.dense_0.bias', 'answer_class.dense_1.weight']\n",
            "You should probably TRAIN this model on a down-stream task to be able to use it for predictions and inference.\n",
            "  0%|          | 0/221 [00:00<?, ?it/s]"
          ],
          "name": "stderr"
        },
        {
          "output_type": "stream",
          "text": [
            "/content/drive/My Drive/kaggle/tweet_sentiment_extraction/model_save/model_0613_6/model_4.bin\n"
          ],
          "name": "stdout"
        },
        {
          "output_type": "stream",
          "text": [
            "100%|██████████| 221/221 [08:29<00:00,  2.30s/it]\n"
          ],
          "name": "stderr"
        }
      ]
    }
  ]
}