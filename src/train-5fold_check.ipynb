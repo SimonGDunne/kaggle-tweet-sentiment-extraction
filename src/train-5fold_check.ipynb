{
 "cells": [
  {
   "cell_type": "code",
   "execution_count": 14,
   "metadata": {},
   "outputs": [],
   "source": [
    "import pandas as pd\n",
    "import numpy as np\n",
    "from pathlib import Path"
   ]
  },
  {
   "cell_type": "code",
   "execution_count": 3,
   "metadata": {},
   "outputs": [],
   "source": [
    "BASE_PATH = Path(\"../\")\n",
    "TRAINING_FILE = BASE_PATH / \"input/train-5fold/train_folds.csv\""
   ]
  },
  {
   "cell_type": "code",
   "execution_count": 4,
   "metadata": {},
   "outputs": [],
   "source": [
    "df = pd.read_csv(TRAINING_FILE)"
   ]
  },
  {
   "cell_type": "code",
   "execution_count": 6,
   "metadata": {},
   "outputs": [
    {
     "data": {
      "text/plain": [
       "kfold  sentiment\n",
       "0      neutral      2224\n",
       "       positive     1716\n",
       "       negative     1557\n",
       "1      neutral      2224\n",
       "       positive     1716\n",
       "       negative     1557\n",
       "2      neutral      2223\n",
       "       positive     1717\n",
       "       negative     1557\n",
       "3      neutral      2223\n",
       "       positive     1717\n",
       "       negative     1557\n",
       "4      neutral      2223\n",
       "       positive     1716\n",
       "       negative     1558\n",
       "Name: sentiment, dtype: int64"
      ]
     },
     "execution_count": 6,
     "metadata": {},
     "output_type": "execute_result"
    }
   ],
   "source": [
    "df.groupby('kfold')['sentiment'].value_counts()"
   ]
  },
  {
   "cell_type": "code",
   "execution_count": 18,
   "metadata": {},
   "outputs": [],
   "source": [
    "df['selected_text_len'] = df['selected_text'].map(len)\n",
    "df['text_len'] = df['text'].map(len)"
   ]
  },
  {
   "cell_type": "code",
   "execution_count": 19,
   "metadata": {},
   "outputs": [
    {
     "data": {
      "text/plain": [
       "kfold  sentiment\n",
       "0      negative     20.192678\n",
       "       neutral      63.463579\n",
       "       positive     18.195221\n",
       "1      negative     18.911368\n",
       "       neutral      63.178957\n",
       "       positive     17.681818\n",
       "2      negative     20.043674\n",
       "       neutral      61.294647\n",
       "       positive     18.363425\n",
       "3      negative     19.925498\n",
       "       neutral      63.256410\n",
       "       positive     18.727432\n",
       "4      negative     20.918485\n",
       "       neutral      62.962213\n",
       "       positive     17.815268\n",
       "Name: selected_text_len, dtype: float64"
      ]
     },
     "execution_count": 19,
     "metadata": {},
     "output_type": "execute_result"
    }
   ],
   "source": [
    "df.groupby(['kfold','sentiment'])['selected_text_len'].apply(np.mean)"
   ]
  },
  {
   "cell_type": "code",
   "execution_count": 20,
   "metadata": {},
   "outputs": [
    {
     "data": {
      "text/plain": [
       "kfold  sentiment\n",
       "0      negative     71.339114\n",
       "       neutral      66.225270\n",
       "       positive     69.674242\n",
       "1      negative     70.089274\n",
       "       neutral      65.950090\n",
       "       positive     71.143939\n",
       "2      negative     71.534361\n",
       "       neutral      64.013945\n",
       "       positive     71.253349\n",
       "3      negative     69.344252\n",
       "       neutral      65.831759\n",
       "       positive     71.393128\n",
       "4      negative     71.749679\n",
       "       neutral      66.008547\n",
       "       positive     70.941142\n",
       "Name: text_len, dtype: float64"
      ]
     },
     "execution_count": 20,
     "metadata": {},
     "output_type": "execute_result"
    }
   ],
   "source": [
    "df.groupby(['kfold','sentiment'])['text_len'].apply(np.mean)"
   ]
  },
  {
   "cell_type": "code",
   "execution_count": null,
   "metadata": {},
   "outputs": [],
   "source": []
  }
 ],
 "metadata": {
  "kernelspec": {
   "display_name": "Python 3",
   "language": "python",
   "name": "python3"
  },
  "language_info": {
   "codemirror_mode": {
    "name": "ipython",
    "version": 3
   },
   "file_extension": ".py",
   "mimetype": "text/x-python",
   "name": "python",
   "nbconvert_exporter": "python",
   "pygments_lexer": "ipython3",
   "version": "3.7.6"
  }
 },
 "nbformat": 4,
 "nbformat_minor": 4
}
